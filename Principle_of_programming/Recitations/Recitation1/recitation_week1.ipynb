{
 "cells": [
  {
   "cell_type": "code",
   "execution_count": null,
   "metadata": {},
   "outputs": [],
   "source": []
  },
  {
   "cell_type": "markdown",
   "metadata": {},
   "source": [
    "# Recitation: Week 1\n",
    "\n",
    "What an exciting week! Thanks all for a great first week and the superb engagement from the entire class! Today, Sukanya will teach you all how to start writing functional programs based on the topics we covered in class last week. Be on the lookout for a cheat-sheet for converting between the blackboard notation I use in-class and Scala programs. \n",
    "\n",
    "Cheers!\n",
    "\n",
    "Jack\n",
    "\n",
    "## Topics\n",
    "\n",
    "* Scala encodings of:\n",
    "  * Algebraic Datatypes\n",
    "  * Functions\n",
    "  * Pattern Matching\n",
    "\n",
    "## Defining Types\n",
    "\n",
    "We saw this week that we can define new types when we feel they will be useful and have some meaning in our Formal System. The first example we saw was the Booleans($\\mathbb{B}$). Here is a refresher of the defintion:\n",
    "\n",
    "$$\n",
    "\\begin{align}\n",
    "\\mathbb{B} := \\text{true}\\ \\mid\\ \\text{false}\n",
    "\\end{align}\n",
    "$$\n",
    "\n",
    "Below we will now write this definition in Scala:"
   ]
  },
  {
   "cell_type": "code",
   "execution_count": null,
   "metadata": {},
   "outputs": [],
   "source": []
  },
  {
   "cell_type": "markdown",
   "metadata": {},
   "source": [
    "### Some Boolean Values\n",
    "\n",
    "We can test that this works by trying to construct some values of Bool. There are only two so this should be fairly easy."
   ]
  },
  {
   "cell_type": "code",
   "execution_count": 1,
   "metadata": {},
   "outputs": [
    {
     "data": {
      "text/plain": [
       "defined \u001b[32mfunction\u001b[39m \u001b[36mt\u001b[39m\n",
       "defined \u001b[32mfunction\u001b[39m \u001b[36mf\u001b[39m"
      ]
     },
     "execution_count": 1,
     "metadata": {},
     "output_type": "execute_result"
    }
   ],
   "source": [
    "def t = ???\n",
    "def f = ???"
   ]
  },
  {
   "cell_type": "markdown",
   "metadata": {},
   "source": [
    "## Defining Functions \n",
    "\n",
    "The next thing we might want to do is define some functions on the Booleans. This should be fairly simple to do. Let's start with the simple identity function. Identity takes in some boolean and returns that same boolean. Formally, we write this as:\n",
    "\n",
    "$$\n",
    "\\begin{align}\n",
    "\\text{id}& : \\mathbb{B} \\rightarrow \\mathbb{B}\\\\\n",
    "\\text{id}&\\ x = x\n",
    "\\end{align}\n",
    "$$\n",
    "\n",
    "And in Scala:"
   ]
  },
  {
   "cell_type": "code",
   "execution_count": 1,
   "metadata": {},
   "outputs": [],
   "source": [
    "// Your code here"
   ]
  },
  {
   "cell_type": "markdown",
   "metadata": {},
   "source": [
    "Now we can try to define some more interesting functions. Lets do negation of Booleans.\n",
    "\n",
    "$$\n",
    "\\begin{align}\n",
    "\\text{not}& : \\mathbb{B} \\rightarrow \\mathbb{B}\\\\\n",
    "\\text{not}& \\text{true}\\ = \\text{false}\\\\\n",
    "\\text{not}& \\text{false}\\ = \\text{true}\n",
    "\\end{align}\n",
    "$$\n",
    "\n",
    "Note that this requires some pattern matching. Particularly on the constructors for ```True``` and ```False```. This is done in scala with the ```match``` construct."
   ]
  },
  {
   "cell_type": "code",
   "execution_count": 7,
   "metadata": {},
   "outputs": [
    {
     "data": {
      "text/plain": [
       "defined \u001b[32mfunction\u001b[39m \u001b[36mnot\u001b[39m"
      ]
     },
     "execution_count": 7,
     "metadata": {},
     "output_type": "execute_result"
    }
   ],
   "source": [
    "// Your code here"
   ]
  },
  {
   "cell_type": "markdown",
   "metadata": {},
   "source": [
    "## More Boolean Functions\n",
    "\n",
    "### And"
   ]
  },
  {
   "cell_type": "code",
   "execution_count": 8,
   "metadata": {},
   "outputs": [
    {
     "data": {
      "text/plain": [
       "defined \u001b[32mfunction\u001b[39m \u001b[36mand\u001b[39m"
      ]
     },
     "execution_count": 8,
     "metadata": {},
     "output_type": "execute_result"
    }
   ],
   "source": [
    "// Your code here"
   ]
  },
  {
   "cell_type": "markdown",
   "metadata": {},
   "source": [
    "The definition above, as we talked about in-class, is a bit more wordy than is necessary. Now let's try to simplify it a bit."
   ]
  },
  {
   "cell_type": "code",
   "execution_count": 1,
   "metadata": {},
   "outputs": [],
   "source": [
    "// Your code here"
   ]
  },
  {
   "cell_type": "markdown",
   "metadata": {},
   "source": [
    "### Or"
   ]
  },
  {
   "cell_type": "code",
   "execution_count": 1,
   "metadata": {},
   "outputs": [],
   "source": [
    "// Your code here"
   ]
  },
  {
   "cell_type": "markdown",
   "metadata": {},
   "source": [
    "### XOR"
   ]
  },
  {
   "cell_type": "code",
   "execution_count": 1,
   "metadata": {},
   "outputs": [],
   "source": [
    "// Your code here"
   ]
  },
  {
   "cell_type": "markdown",
   "metadata": {},
   "source": [
    "### Nand\n",
    "\n",
    "Try to define this one in two different ways: First use pattern matching in the style of the functions above. For the second version limit yourself exclusively to functions we have already defined(without using any ```match``` expressions)."
   ]
  },
  {
   "cell_type": "code",
   "execution_count": 1,
   "metadata": {},
   "outputs": [],
   "source": [
    "// Your code here"
   ]
  },
  {
   "cell_type": "code",
   "execution_count": 1,
   "metadata": {},
   "outputs": [],
   "source": [
    "// Your code here"
   ]
  },
  {
   "cell_type": "markdown",
   "metadata": {},
   "source": [
    "## Algebraic Datatypes\n",
    "\n",
    "We can also encode more complication Algebraic Datatypes in Scala such as the Natural Numbers, Lists, and more.\n",
    "\n",
    "Let's now encode the natural numbers:\n",
    "\n",
    "$$\n",
    "\\begin{align}\n",
    "\\mathbb{N} :=&\\ \\text{zero} \\\\\n",
    "\\mid&\\ \\text{succ}\\ \\mathbb{N}\n",
    "\\end{align}\n",
    "$$"
   ]
  },
  {
   "cell_type": "code",
   "execution_count": 2,
   "metadata": {},
   "outputs": [
    {
     "data": {
      "text/plain": [
       "defined \u001b[32mtrait\u001b[39m \u001b[36mNat\u001b[39m"
      ]
     },
     "execution_count": 2,
     "metadata": {},
     "output_type": "execute_result"
    }
   ],
   "source": [
    "// Your definition here\n",
    "sealed trait Nat"
   ]
  },
  {
   "cell_type": "markdown",
   "metadata": {},
   "source": [
    "As a sanity check we can also define some values of type Nat:"
   ]
  },
  {
   "cell_type": "code",
   "execution_count": 30,
   "metadata": {},
   "outputs": [
    {
     "data": {
      "text/plain": [
       "defined \u001b[32mfunction\u001b[39m \u001b[36mone\u001b[39m\n",
       "defined \u001b[32mfunction\u001b[39m \u001b[36mtwo\u001b[39m\n",
       "defined \u001b[32mfunction\u001b[39m \u001b[36mthree\u001b[39m"
      ]
     },
     "execution_count": 30,
     "metadata": {},
     "output_type": "execute_result"
    }
   ],
   "source": [
    "def one = Succ(Zero)\n",
    "def two = Succ(Succ(Zero))\n",
    "def three = Succ(two)"
   ]
  },
  {
   "cell_type": "markdown",
   "metadata": {},
   "source": [
    "## Plus\n",
    "\n",
    "Now define the plus function as we defined it in class:"
   ]
  },
  {
   "cell_type": "code",
   "execution_count": 3,
   "metadata": {},
   "outputs": [
    {
     "data": {
      "text/plain": [
       "defined \u001b[32mfunction\u001b[39m \u001b[36mplus\u001b[39m"
      ]
     },
     "execution_count": 3,
     "metadata": {},
     "output_type": "execute_result"
    }
   ],
   "source": [
    "def plus(x : Nat, y : Nat) : Nat = ???"
   ]
  },
  {
   "cell_type": "code",
   "execution_count": null,
   "metadata": {},
   "outputs": [],
   "source": []
  }
 ],
 "metadata": {
  "kernelspec": {
   "display_name": "Scala",
   "language": "scala",
   "name": "scala"
  },
  "language_info": {
   "codemirror_mode": "text/x-scala",
   "file_extension": ".scala",
   "mimetype": "text/x-scala",
   "name": "scala",
   "nbconvert_exporter": "script",
   "version": "2.12.11"
  }
 },
 "nbformat": 4,
 "nbformat_minor": 2
}
