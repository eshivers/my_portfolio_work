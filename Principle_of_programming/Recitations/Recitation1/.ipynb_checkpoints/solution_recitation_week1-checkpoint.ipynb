{
 "cells": [
  {
   "cell_type": "markdown",
   "metadata": {},
   "source": [
    "# Recitation: Week 1\n",
    "\n",
    "What an exciting week! Thanks all for a great first week and the superb engagement from the entire class! Today, Sukanya will teach you all how to start writing functional programs based on the topics we covered in class last week. Be on the lookout for a cheat-sheet for converting between the blackboard notation I use in-class and Scala programs. \n",
    "\n",
    "Cheers!\n",
    "\n",
    "Jack\n",
    "\n",
    "## Topics\n",
    "\n",
    "* Scala encodings of:\n",
    "  * Algebraic Datatypes\n",
    "  * Functions\n",
    "  * Pattern Matching\n",
    "\n",
    "## Defining Types\n",
    "\n",
    "We saw this week that we can define new types when we feel they will be useful and have some meaning in our Formal System. The first example we saw was the Booleans($\\mathbb{B}$). Here is a refresher of the defintion:\n",
    "\n",
    "$$\n",
    "\\begin{align}\n",
    "\\mathbb{B} := \\text{true}\\ \\mid\\ \\text{false}\n",
    "\\end{align}\n",
    "$$\n",
    "\n",
    "Below we will now write this definition in Scala:"
   ]
  },
  {
   "cell_type": "code",
   "execution_count": 1,
   "metadata": {},
   "outputs": [
    {
     "data": {
      "text/plain": [
       "defined \u001b[32mtrait\u001b[39m \u001b[36mBool\u001b[39m\n",
       "defined \u001b[32mobject\u001b[39m \u001b[36mTrue\u001b[39m\n",
       "defined \u001b[32mobject\u001b[39m \u001b[36mFalse\u001b[39m"
      ]
     },
     "execution_count": 1,
     "metadata": {},
     "output_type": "execute_result"
    }
   ],
   "source": [
    "sealed trait Bool\n",
    "case object True extends Bool\n",
    "case object False extends Bool"
   ]
  },
  {
   "cell_type": "markdown",
   "metadata": {},
   "source": [
    "### Some Boolean Values\n",
    "\n",
    "We can test that this works by trying to construct some values of Bool. There are only two so this should be fairly easy."
   ]
  },
  {
   "cell_type": "code",
   "execution_count": 11,
   "metadata": {},
   "outputs": [
    {
     "data": {
      "text/plain": [
       "\u001b[36mt\u001b[39m: \u001b[32mTrue\u001b[39m.type = True\n",
       "\u001b[36mf\u001b[39m: \u001b[32mFalse\u001b[39m.type = False"
      ]
     },
     "execution_count": 11,
     "metadata": {},
     "output_type": "execute_result"
    }
   ],
   "source": [
    "val t = True\n",
    "val f = False\n",
    "//val vs var----> immutable vs mutable\n"
   ]
  },
  {
   "cell_type": "markdown",
   "metadata": {},
   "source": [
    "## Defining Functions \n",
    "\n",
    "The next thing we might want to do is define some functions on the Booleans. This should be fairly simple to do. Let's start with the simple identity function. Identity takes in some boolean and returns that same boolean. Formally, we write this as:\n",
    "\n",
    "$$\n",
    "\\begin{align}\n",
    "\\text{id}& : \\mathbb{B} \\rightarrow \\mathbb{B}\\\\\n",
    "\\text{id}&\\ x = x\n",
    "\\end{align}\n",
    "$$\n",
    "\n",
    "And in Scala:"
   ]
  },
  {
   "cell_type": "code",
   "execution_count": 1,
   "metadata": {},
   "outputs": [],
   "source": [
    "// Your code here\n",
    "def id(x: Bool): Bool= x"
   ]
  },
  {
   "cell_type": "markdown",
   "metadata": {},
   "source": [
    "Now we can try to define some more interesting functions. Lets do negation of Booleans.\n",
    "\n",
    "$$\n",
    "\\begin{align}\n",
    "\\text{not}& : \\mathbb{B} \\rightarrow \\mathbb{B}\\\\\n",
    "\\text{not}& \\text{true}\\ = \\text{false}\\\\\n",
    "\\text{not}& \\text{false}\\ = \\text{true}\n",
    "\\end{align}\n",
    "$$\n",
    "\n",
    "Note that this requires some pattern matching. Particularly on the constructors for ```True``` and ```False```. This is done in scala with the ```match``` construct."
   ]
  },
  {
   "cell_type": "code",
   "execution_count": 12,
   "metadata": {},
   "outputs": [
    {
     "data": {
      "text/plain": [
       "defined \u001b[32mfunction\u001b[39m \u001b[36mnot\u001b[39m"
      ]
     },
     "execution_count": 12,
     "metadata": {},
     "output_type": "execute_result"
    }
   ],
   "source": [
    "// Your code here\n",
    "\n",
    "//T---F\n",
    "//F---T\n",
    "\n",
    "def not(x:Bool): Bool= x match{\n",
    "    case True=> False\n",
    "    case False=> True\n",
    "}"
   ]
  },
  {
   "cell_type": "markdown",
   "metadata": {},
   "source": [
    "## More Boolean Functions\n",
    "\n",
    "### And"
   ]
  },
  {
   "cell_type": "code",
   "execution_count": 3,
   "metadata": {},
   "outputs": [
    {
     "data": {
      "text/plain": [
       "defined \u001b[32mfunction\u001b[39m \u001b[36mand1\u001b[39m"
      ]
     },
     "execution_count": 3,
     "metadata": {},
     "output_type": "execute_result"
    }
   ],
   "source": [
    "// Your code here\n",
    "\n",
    "def and1(x: Bool, y: Bool): Bool= x match{\n",
    "    case True=> y match{\n",
    "        case True=> True\n",
    "        case False=> False\n",
    "    }\n",
    "    case False=> False\n",
    "    \n",
    "}"
   ]
  },
  {
   "cell_type": "markdown",
   "metadata": {},
   "source": [
    "The definition above, as we talked about in-class, is a bit more wordy than is necessary. Now let's try to simplify it a bit."
   ]
  },
  {
   "cell_type": "code",
   "execution_count": 8,
   "metadata": {},
   "outputs": [
    {
     "data": {
      "text/plain": [
       "defined \u001b[32mfunction\u001b[39m \u001b[36mand\u001b[39m"
      ]
     },
     "execution_count": 8,
     "metadata": {},
     "output_type": "execute_result"
    }
   ],
   "source": [
    "// Your code here\n",
    "// T T--- T\n",
    "// T F--- F\n",
    "// F T--- F\n",
    "// F F--- F\n",
    "\n",
    "def and(x: Bool, y: Bool): Bool= (x,y) match{\n",
    "    case (True, True)=> True\n",
    "    case _=> False\n",
    "}"
   ]
  },
  {
   "cell_type": "markdown",
   "metadata": {},
   "source": [
    "### Or"
   ]
  },
  {
   "cell_type": "code",
   "execution_count": 13,
   "metadata": {},
   "outputs": [
    {
     "data": {
      "text/plain": [
       "defined \u001b[32mfunction\u001b[39m \u001b[36mor\u001b[39m"
      ]
     },
     "execution_count": 13,
     "metadata": {},
     "output_type": "execute_result"
    }
   ],
   "source": [
    "// Your code here\n",
    "// T T=== T\n",
    "// T F=== T\n",
    "// F T=== T\n",
    "// F F=== F\n",
    "def or(x:Bool, y: Bool):Bool= (x,y) match{\n",
    "    case (False, False)=> False\n",
    "    case _=> True\n",
    "}"
   ]
  },
  {
   "cell_type": "markdown",
   "metadata": {},
   "source": [
    "### XOR"
   ]
  },
  {
   "cell_type": "code",
   "execution_count": 5,
   "metadata": {},
   "outputs": [
    {
     "data": {
      "text/plain": [
       "defined \u001b[32mfunction\u001b[39m \u001b[36mxor\u001b[39m"
      ]
     },
     "execution_count": 5,
     "metadata": {},
     "output_type": "execute_result"
    }
   ],
   "source": [
    "// Your code here\n",
    "// T T= F\n",
    "// T F or F T = T\n",
    "// F F = F\n",
    "def xor(x: Bool, y: Bool): Bool= (x,y) match{\n",
    "    case (True, False)=> True\n",
    "    case (False, True)=> True\n",
    "    case _=>False\n",
    "}"
   ]
  },
  {
   "cell_type": "markdown",
   "metadata": {},
   "source": [
    "### Nand\n",
    "\n",
    "Try to define this one in two different ways: First use pattern matching in the style of the functions above. For the second version limit yourself exclusively to functions we have already defined(without using any ```match``` expressions)."
   ]
  },
  {
   "cell_type": "code",
   "execution_count": 6,
   "metadata": {},
   "outputs": [
    {
     "data": {
      "text/plain": [
       "defined \u001b[32mfunction\u001b[39m \u001b[36mnand\u001b[39m"
      ]
     },
     "execution_count": 6,
     "metadata": {},
     "output_type": "execute_result"
    }
   ],
   "source": [
    "// Your code here\n",
    "// T T= F\n",
    "// T F or F T or F F= T\n",
    "def nand(x: Bool, y: Bool): Bool= (x,y) match{\n",
    "    case (True, True)=> False\n",
    "    case _=> True\n",
    "}"
   ]
  },
  {
   "cell_type": "code",
   "execution_count": 1,
   "metadata": {},
   "outputs": [],
   "source": [
    "// Your code here\n",
    "def nand1(x: Bool, y: Bool): Bool= not(and(x,y))"
   ]
  },
  {
   "cell_type": "markdown",
   "metadata": {},
   "source": [
    "## Algebraic Datatypes\n",
    "\n",
    "We can also encode more complication Algebraic Datatypes in Scala such as the Natural Numbers, Lists, and more.\n",
    "\n",
    "Let's now encode the natural numbers:\n",
    "\n",
    "$$\n",
    "\\begin{align}\n",
    "\\mathbb{N} :=&\\ \\text{zero} \\\\\n",
    "\\mid&\\ \\text{succ}\\ \\mathbb{N}\n",
    "\\end{align}\n",
    "$$"
   ]
  },
  {
   "cell_type": "code",
   "execution_count": 14,
   "metadata": {},
   "outputs": [
    {
     "data": {
      "text/plain": [
       "defined \u001b[32mtrait\u001b[39m \u001b[36mNat\u001b[39m\n",
       "defined \u001b[32mobject\u001b[39m \u001b[36mZero\u001b[39m\n",
       "defined \u001b[32mclass\u001b[39m \u001b[36mSucc\u001b[39m"
      ]
     },
     "execution_count": 14,
     "metadata": {},
     "output_type": "execute_result"
    }
   ],
   "source": [
    "// Your definition here\n",
    "\n",
    "//natural numbers---> 0,1,2,3 positive numbers\n",
    "// A case class can take arguments, so each instance of that case class can be different \n",
    "//A case object does not take args in the constructor, so there can only be one instance \n",
    "//It is also called a singleton, like a regular scala object is so object can only have one instance\n",
    "\n",
    "sealed trait Nat\n",
    "case object Zero extends Nat\n",
    "case class Succ(pred: Nat) extends Nat\n",
    "//Inductive defination\n"
   ]
  },
  {
   "cell_type": "markdown",
   "metadata": {},
   "source": [
    "As a sanity check we can also define some values of type Nat:"
   ]
  },
  {
   "cell_type": "code",
   "execution_count": 15,
   "metadata": {},
   "outputs": [
    {
     "data": {
      "text/plain": [
       "defined \u001b[32mfunction\u001b[39m \u001b[36mone\u001b[39m\n",
       "defined \u001b[32mfunction\u001b[39m \u001b[36mtwo\u001b[39m\n",
       "defined \u001b[32mfunction\u001b[39m \u001b[36mtwo1\u001b[39m\n",
       "defined \u001b[32mfunction\u001b[39m \u001b[36mthree\u001b[39m"
      ]
     },
     "execution_count": 15,
     "metadata": {},
     "output_type": "execute_result"
    }
   ],
   "source": [
    "def one = Succ(Zero)\n",
    "def two = Succ(Succ(Zero))\n",
    "def two1 = Succ(one)\n",
    "def three = Succ(two)"
   ]
  },
  {
   "cell_type": "markdown",
   "metadata": {},
   "source": [
    "## Plus\n",
    "\n",
    "Now define the plus function as we defined it in class:"
   ]
  },
  {
   "cell_type": "code",
   "execution_count": 16,
   "metadata": {},
   "outputs": [
    {
     "data": {
      "text/plain": [
       "defined \u001b[32mfunction\u001b[39m \u001b[36mplus\u001b[39m"
      ]
     },
     "execution_count": 16,
     "metadata": {},
     "output_type": "execute_result"
    }
   ],
   "source": [
    "def plus(x: Nat, y:Nat): Nat= x match{\n",
    "    case Zero=> y\n",
    "    case Succ(t)=> plus(t, Succ(y))\n",
    "// we can also write case Succ(x) => Succ(plus(x, y))\n",
    "}\n",
    "\n",
    "// x, y--- 0, 1=>>> y=1\n",
    "// x, y--- 1, 2=>>> plus(0, Succ(y)=3)=>>> 3 succ(succ(succ(zero)))\n"
   ]
  },
  {
   "cell_type": "code",
   "execution_count": 17,
   "metadata": {},
   "outputs": [
    {
     "name": "stdout",
     "output_type": "stream",
     "text": [
      "Succ(Succ(Succ(Zero)))\n"
     ]
    }
   ],
   "source": [
    "println(plus(one, two))\n",
    "// If n1 == Z, then the result is just n2\n",
    "// Otherwise, the result is to peel of a Succ from first argument \n",
    "// and add it to the second argument."
   ]
  }
 ],
 "metadata": {
  "kernelspec": {
   "display_name": "Scala",
   "language": "scala",
   "name": "scala"
  },
  "language_info": {
   "codemirror_mode": "text/x-scala",
   "file_extension": ".scala",
   "mimetype": "text/x-scala",
   "name": "scala",
   "nbconvert_exporter": "script",
   "version": "2.12.11"
  }
 },
 "nbformat": 4,
 "nbformat_minor": 2
}
