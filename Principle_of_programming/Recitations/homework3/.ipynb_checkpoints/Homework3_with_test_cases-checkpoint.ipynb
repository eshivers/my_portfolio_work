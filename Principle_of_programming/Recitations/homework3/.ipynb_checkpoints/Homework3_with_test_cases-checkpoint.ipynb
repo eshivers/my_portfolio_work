{
 "cells": [
  {
   "cell_type": "code",
   "execution_count": 1,
   "metadata": {},
   "outputs": [
    {
     "data": {
      "text/plain": [
       "\u001b[32mimport \u001b[39m\u001b[36m$file.$        \n",
       "\u001b[39m\n",
       "\u001b[32mimport \u001b[39m\u001b[36mhw3stdlib._\u001b[39m"
      ]
     },
     "execution_count": 1,
     "metadata": {},
     "output_type": "execute_result"
    }
   ],
   "source": [
    "import $file.hw3stdlib\n",
    "import hw3stdlib._"
   ]
  },
  {
   "cell_type": "markdown",
   "metadata": {},
   "source": [
    "# Homework 3\n",
    "\n",
    "In this assignment we will develop our first interpreter. But before this we will need to define the Integers and the arithmetic operations for them."
   ]
  },
  {
   "cell_type": "markdown",
   "metadata": {},
   "source": [
    "# $\\mathbb{Z}$: The Integers\n",
    "\n",
    "For the arithmetic interpreter we will write later on in the homework we will need arithmetic operations for the integers. These will obviously correspond very closely to the operations defined on the Natural Numbers. But now we will need to account for negative numbers in a proper way. \n",
    "\n",
    "Start by defining the Algebraic Datatype(sealed trait with case classes) for the Integers. The encoded type should be:\n",
    "\n",
    "$$\n",
    "\\begin{align}\n",
    "    \\mathbb{Z} ::=&\\ \\text{Positive}\\ \\mathbb{N}\\\\\n",
    "    \\mid&\\ \\text{Negative}\\ \\mathbb{N}\n",
    "\\end{align}\n",
    "$$\n",
    "\n",
    "We will use this encoding because it will allow us to use some of our definitions for the Natural Numbers to define the operations on the Integers. This is the core strategy of functional programming: using smaller functions to build up larger ones. This is true even across types. We want to always minimize the ammount of code we have be reusing what we have already constructed, whenever possible. \n",
    "\n",
    "## Defining $\\mathbb{Z}$ (5 points)\n",
    "\n",
    "Define the ADT for Integers below: "
   ]
  },
  {
   "cell_type": "code",
   "execution_count": 5,
   "metadata": {},
   "outputs": [
    {
     "data": {
      "text/plain": [
       "defined \u001b[32mtrait\u001b[39m \u001b[36mInteger\u001b[39m\n",
       "defined \u001b[32mclass\u001b[39m \u001b[36mPositive\u001b[39m\n",
       "defined \u001b[32mclass\u001b[39m \u001b[36mNegative\u001b[39m"
      ]
     },
     "execution_count": 5,
     "metadata": {},
     "output_type": "execute_result"
    }
   ],
   "source": [
    "sealed trait Integer\n",
    "case class Positive(x: Nat) extends Integer\n",
    "case class Negative(x: Nat) extends Integer"
   ]
  },
  {
   "cell_type": "markdown",
   "metadata": {},
   "source": [
    "If your definition was correct the following functions should define and print some integers\n",
    "\n"
   ]
  },
  {
   "cell_type": "code",
   "execution_count": 6,
   "metadata": {},
   "outputs": [
    {
     "name": "stdout",
     "output_type": "stream",
     "text": [
      "1\n",
      "-1\n"
     ]
    },
    {
     "data": {
      "text/plain": [
       "defined \u001b[32mfunction\u001b[39m \u001b[36mone\u001b[39m\n",
       "defined \u001b[32mfunction\u001b[39m \u001b[36mneg_one\u001b[39m\n",
       "defined \u001b[32mfunction\u001b[39m \u001b[36mint_to_str\u001b[39m\n",
       "defined \u001b[32mfunction\u001b[39m \u001b[36mprint_integer\u001b[39m"
      ]
     },
     "execution_count": 6,
     "metadata": {},
     "output_type": "execute_result"
    }
   ],
   "source": [
    "def one : Integer = Positive(Succ(Zero))\n",
    "def neg_one : Integer = Negative(Succ(Zero))\n",
    "\n",
    "def int_to_str(x : Integer) : String = x match {\n",
    "    case Positive(x) => nat_to_str(x)\n",
    "    case Negative(x) => \"-\" + nat_to_str(x)\n",
    "}\n",
    "\n",
    "def print_integer(x : Integer) = println(int_to_str(x))\n",
    "\n",
    "print_integer(one)\n",
    "print_integer(neg_one)"
   ]
  },
  {
   "cell_type": "markdown",
   "metadata": {},
   "source": [
    "## Absolute Value and Negation \n",
    "\n",
    "### Absolute Value (5 points)\n",
    "\n",
    "Define the absolute value function for Integers. This should be a very simple function that takes an Integer and gives its absolute value as a $\\mathbb{N}$"
   ]
  },
  {
   "cell_type": "code",
   "execution_count": 7,
   "metadata": {},
   "outputs": [
    {
     "data": {
      "text/plain": [
       "defined \u001b[32mfunction\u001b[39m \u001b[36mabs\u001b[39m"
      ]
     },
     "execution_count": 7,
     "metadata": {},
     "output_type": "execute_result"
    }
   ],
   "source": [
    "def abs(x: Integer): Nat = x match{\n",
    "    case Positive(x) => x\n",
    "    case Negative(x) => x\n",
    "}"
   ]
  },
  {
   "cell_type": "markdown",
   "metadata": {},
   "source": []
  },
  {
   "cell_type": "markdown",
   "metadata": {},
   "source": [
    "### Negation (5 points)\n",
    "\n",
    "This should be very easy as well. Define the negation function. This makes a positive Integer negative and a negative Integer positive."
   ]
  },
  {
   "cell_type": "code",
   "execution_count": 8,
   "metadata": {},
   "outputs": [
    {
     "data": {
      "text/plain": [
       "defined \u001b[32mfunction\u001b[39m \u001b[36mneg\u001b[39m"
      ]
     },
     "execution_count": 8,
     "metadata": {},
     "output_type": "execute_result"
    }
   ],
   "source": [
    "def neg(x: Integer): Integer = x match{\n",
    "    case Positive(x) => Negative(x)\n",
    "    case Negative(x) => Positive(x)\n",
    "}"
   ]
  },
  {
   "cell_type": "markdown",
   "metadata": {},
   "source": [
    "## Addition and Subtraction\n",
    "\n",
    "Define plus and minus for Integers. Don't use the versions we created for $\\mathbb{N}$ as it did some funky things to get minus to behave correctly. Try and create these from scratch instead. It is recommended to use the lte(less than or equals) function we defined last week along with abs to make the job easier. \n",
    "\n",
    "Note that we have renamed the operations for natural numbers so that they are of the form:\n",
    "\n"
   ]
  },
  {
   "cell_type": "markdown",
   "metadata": {},
   "source": [
    "``` nat_<operation name> ```\n",
    "\n",
    "For instance, plus has been renamed to ``` nat_plus ```. This was done so we don't have namespace conflicts\n",
    "\n",
    "### Addition (5 points)\n",
    "\n",
    "Fill in the missing cases for Addition"
   ]
  },
  {
   "cell_type": "code",
   "execution_count": 13,
   "metadata": {},
   "outputs": [
    {
     "data": {
      "text/plain": [
       "defined \u001b[32mfunction\u001b[39m \u001b[36mplus\u001b[39m"
      ]
     },
     "execution_count": 13,
     "metadata": {},
     "output_type": "execute_result"
    }
   ],
   "source": [
    "def plus(n : Integer, m : Integer) : Integer = (n, m) match {\n",
    "    case (Positive(x), Positive(y)) => Positive(nat_plus(x, y))\n",
    "    case (Negative(x), Negative(y)) => Negative(nat_plus(x, y))\n",
    "    case (Negative(x), Positive(y)) => nat_lte(x, y) match {\n",
    "        case True  => Positive(nat_minus(y, x))\n",
    "        case False => Negative(nat_minus(x, y))\n",
    "    }\n",
    "    case (Positive(x), Negative(y)) => nat_lte(y,x) match {\n",
    "        case True => Positive(nat_minus(x,y))\n",
    "        case False => Negative(nat_minus(y,x))\n",
    "    }\n",
    "}"
   ]
  },
  {
   "cell_type": "code",
   "execution_count": 14,
   "metadata": {},
   "outputs": [],
   "source": [
    "assert(plus(Positive(three), Negative(six)) == Negative(three))\n",
    "assert(plus(Positive(three), Negative(two)) == Positive(Succ(Zero)))\n",
    "assert(plus(Positive(five), Positive(three)) == Positive(eight))"
   ]
  },
  {
   "cell_type": "markdown",
   "metadata": {},
   "source": [
    "### Subtraction (5 points)\n",
    "\n",
    "Hint: Subtraction is very easy if you use ```plus``` and ```negate```"
   ]
  },
  {
   "cell_type": "code",
   "execution_count": 16,
   "metadata": {},
   "outputs": [
    {
     "data": {
      "text/plain": [
       "defined \u001b[32mfunction\u001b[39m \u001b[36mminus\u001b[39m"
      ]
     },
     "execution_count": 16,
     "metadata": {},
     "output_type": "execute_result"
    }
   ],
   "source": [
    "def minus(n: Integer,m: Integer) : Integer = (n,m) match {\n",
    "    case _ => plus(n,neg(m))\n",
    "}"
   ]
  },
  {
   "cell_type": "code",
   "execution_count": 17,
   "metadata": {},
   "outputs": [],
   "source": [
    "assert(minus(Positive(three), Negative(six)) == Positive(nine))\n",
    "assert(minus(Positive(three), Negative(two)) == Positive(five))\n",
    "assert(minus(Positive(five), Positive(six)) == Negative(Succ(Zero)))"
   ]
  },
  {
   "cell_type": "markdown",
   "metadata": {},
   "source": [
    "## Multiplication and Exponentiation\n",
    "\n",
    "Write multiplication and exponentiation for Integers. You should be able to use ```nat_mult``` to greatly simplify this\n",
    "\n",
    "### Multiplication (5 points)\n",
    "\n",
    "Remember the rules for when to switch signs(+/-) for multiplication"
   ]
  },
  {
   "cell_type": "code",
   "execution_count": 18,
   "metadata": {},
   "outputs": [
    {
     "data": {
      "text/plain": [
       "defined \u001b[32mfunction\u001b[39m \u001b[36mmult\u001b[39m"
      ]
     },
     "execution_count": 18,
     "metadata": {},
     "output_type": "execute_result"
    }
   ],
   "source": [
    "def mult(n: Integer,m: Integer) : Integer = (n,m) match{\n",
    "    case (Positive(x), Positive(y)) => Positive(nat_mult(x,y))\n",
    "    case (Negative(x), Negative(y)) => Positive(nat_mult(x,y))\n",
    "    case (Negative(x), Positive(y)) => Negative(nat_mult(x,y))\n",
    "    case (Positive(x), Negative(y)) => Negative(nat_mult(x,y))\n",
    "}"
   ]
  },
  {
   "cell_type": "code",
   "execution_count": 19,
   "metadata": {},
   "outputs": [],
   "source": [
    "assert(mult(Positive(three), Negative(two)) == Negative(six))\n",
    "assert(mult(Positive(two), Positive(Succ(Zero))) == Positive(two))\n",
    "assert(mult(Negative(three), Negative(three)) == Positive(nine))"
   ]
  },
  {
   "cell_type": "markdown",
   "metadata": {},
   "source": [
    "### Exponentiation (5 points)\n",
    "\n",
    "recall that for ``pow`` we will restrict ourselves to only positive powers. Use the definition of `mult` from above so that your polarity(Positive/Negative) is correct. Recall the cases for $-x^n$ for even vs odd $n$. A hint for your base case: `pow(x, 0) = Positive( 1 )`"
   ]
  },
  {
   "cell_type": "code",
   "execution_count": 21,
   "metadata": {},
   "outputs": [
    {
     "data": {
      "text/plain": [
       "defined \u001b[32mfunction\u001b[39m \u001b[36mpow\u001b[39m"
      ]
     },
     "execution_count": 21,
     "metadata": {},
     "output_type": "execute_result"
    }
   ],
   "source": [
    "def pow(n: Integer,m: Nat) : Integer = (n,m) match{\n",
    "    case (_,Zero) => Positive(Succ(Zero))\n",
    "    case (_,Succ(Zero)) => n\n",
    "    case (_,Succ(y)) => mult(n,pow(n,y))\n",
    "}"
   ]
  },
  {
   "cell_type": "code",
   "execution_count": 22,
   "metadata": {},
   "outputs": [],
   "source": [
    "assert(pow(Negative(two), two) == Positive(four))\n",
    "assert(pow(Positive(three), Succ(Zero)) == Positive(three))\n",
    "assert(pow(Negative(two), three) == Negative(eight))"
   ]
  },
  {
   "cell_type": "markdown",
   "metadata": {},
   "source": [
    "# The Arithmetic Language: Our First Interpreter\n",
    "\n",
    "Now we are ready to define our first interpreter. We will define the Arithmetic language syntax below as a sealed trait. It will be your job to correctly construct the interpreter for it based on the inference rules we covered in class. Recall that each rule corresponds to a case in the `eval` function.\n"
   ]
  },
  {
   "cell_type": "code",
   "execution_count": 23,
   "metadata": {},
   "outputs": [
    {
     "data": {
      "text/plain": [
       "defined \u001b[32mtrait\u001b[39m \u001b[36mExpr\u001b[39m\n",
       "defined \u001b[32mclass\u001b[39m \u001b[36mNum\u001b[39m\n",
       "defined \u001b[32mclass\u001b[39m \u001b[36mPlus\u001b[39m\n",
       "defined \u001b[32mclass\u001b[39m \u001b[36mMinus\u001b[39m\n",
       "defined \u001b[32mclass\u001b[39m \u001b[36mMult\u001b[39m\n",
       "defined \u001b[32mclass\u001b[39m \u001b[36mPow\u001b[39m"
      ]
     },
     "execution_count": 23,
     "metadata": {},
     "output_type": "execute_result"
    }
   ],
   "source": [
    "sealed trait Expr \n",
    "case class Num(x : Integer) extends Expr \n",
    "case class Plus(x : Expr, y : Expr) extends Expr\n",
    "case class Minus(x : Expr, y : Expr) extends Expr\n",
    "case class Mult(x : Expr, y : Expr) extends Expr\n",
    "case class Pow(x : Expr, y : Nat) extends Expr"
   ]
  },
  {
   "cell_type": "markdown",
   "metadata": {},
   "source": [
    "## The Interpreter (15 points)\n",
    "\n",
    "Now that we have defined the syntax for Arithmetic expressions. Go ahead and define the interpreter. We have given the signature for the function. (Bonus points if you define and use the helper function `eval-bin` that we discussed in class.\n",
    "\n",
    "Recall that the type of this interpreter should be $eval : \\text{Expr} \\rightarrow \\mathbb{Z}$"
   ]
  },
  {
   "cell_type": "code",
   "execution_count": 28,
   "metadata": {},
   "outputs": [
    {
     "data": {
      "text/plain": [
       "defined \u001b[32mfunction\u001b[39m \u001b[36meval\u001b[39m"
      ]
     },
     "execution_count": 28,
     "metadata": {},
     "output_type": "execute_result"
    }
   ],
   "source": [
    "def eval (x: Expr) : Integer = x match{\n",
    "    case Num(x) => x\n",
    "    case Plus(x,y) => plus(eval(x),eval(y))\n",
    "    case Minus(x,y) => minus(eval(x),eval(y))\n",
    "    case Mult(x,y) => mult(eval(x),eval(y))\n",
    "    case Pow(x,y) => pow(eval(x),y)\n",
    "\n",
    "}"
   ]
  },
  {
   "cell_type": "code",
   "execution_count": 29,
   "metadata": {},
   "outputs": [
    {
     "data": {
      "text/plain": [
       "\u001b[36mx\u001b[39m: \u001b[32mExpr\u001b[39m = \u001b[33mNum\u001b[39m(\u001b[33mPositive\u001b[39m(\u001b[33mSucc\u001b[39m(\u001b[33mSucc\u001b[39m(\u001b[33mSucc\u001b[39m(\u001b[33mSucc\u001b[39m(\u001b[33mSucc\u001b[39m(\u001b[33mSucc\u001b[39m(Zero))))))))"
      ]
     },
     "execution_count": 29,
     "metadata": {},
     "output_type": "execute_result"
    }
   ],
   "source": [
    "val x: Expr = Num(Positive(six))\n",
    "assert(eval(x) == Positive(six))"
   ]
  },
  {
   "cell_type": "code",
   "execution_count": 30,
   "metadata": {},
   "outputs": [
    {
     "data": {
      "text/plain": [
       "\u001b[36mx2\u001b[39m: \u001b[32mExpr\u001b[39m = \u001b[33mPlus\u001b[39m(\n",
       "  \u001b[33mNum\u001b[39m(\u001b[33mPositive\u001b[39m(\u001b[33mSucc\u001b[39m(\u001b[33mSucc\u001b[39m(Zero)))),\n",
       "  \u001b[33mNum\u001b[39m(\u001b[33mPositive\u001b[39m(\u001b[33mSucc\u001b[39m(\u001b[33mSucc\u001b[39m(Zero))))\n",
       ")"
      ]
     },
     "execution_count": 30,
     "metadata": {},
     "output_type": "execute_result"
    }
   ],
   "source": [
    "val x2: Expr = Plus(Num(Positive(two)), Num(Positive(two)))\n",
    "assert(eval(x2) == Positive(four))"
   ]
  },
  {
   "cell_type": "code",
   "execution_count": 31,
   "metadata": {},
   "outputs": [
    {
     "data": {
      "text/plain": [
       "\u001b[36mx3\u001b[39m: \u001b[32mExpr\u001b[39m = \u001b[33mMult\u001b[39m(\n",
       "  \u001b[33mPlus\u001b[39m(\u001b[33mNum\u001b[39m(\u001b[33mPositive\u001b[39m(\u001b[33mSucc\u001b[39m(\u001b[33mSucc\u001b[39m(Zero)))), \u001b[33mNum\u001b[39m(\u001b[33mPositive\u001b[39m(\u001b[33mSucc\u001b[39m(\u001b[33mSucc\u001b[39m(Zero))))),\n",
       "  \u001b[33mNum\u001b[39m(\u001b[33mNegative\u001b[39m(\u001b[33mSucc\u001b[39m(\u001b[33mSucc\u001b[39m(Zero))))\n",
       ")"
      ]
     },
     "execution_count": 31,
     "metadata": {},
     "output_type": "execute_result"
    }
   ],
   "source": [
    "val x3: Expr = Mult(Plus(Num(Positive(two)), Num(Positive(two))), Num(Negative(two)))\n",
    "assert(eval(x3) == Negative(eight))"
   ]
  },
  {
   "cell_type": "code",
   "execution_count": null,
   "metadata": {},
   "outputs": [],
   "source": []
  }
 ],
 "metadata": {
  "kernelspec": {
   "display_name": "Scala",
   "language": "scala",
   "name": "scala"
  },
  "language_info": {
   "codemirror_mode": "text/x-scala",
   "file_extension": ".scala",
   "mimetype": "text/x-scala",
   "name": "scala",
   "nbconvert_exporter": "script",
   "version": "2.12.11"
  }
 },
 "nbformat": 4,
 "nbformat_minor": 2
}
