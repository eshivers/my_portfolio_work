{
 "cells": [
  {
   "cell_type": "code",
   "execution_count": 2,
   "metadata": {},
   "outputs": [
    {
     "name": "stdout",
     "output_type": "stream",
     "text": [
      "Compiling /home/sajeelh/Documents/Projects/Upwork/Jobs/Job5_Erica/Courses/Principles_of_programming/Recitations/Recitation2/hw2stdlib_newer.sc"
     ]
    },
    {
     "data": {
      "text/plain": [
       "\u001b[32mimport \u001b[39m\u001b[36m$file.$              \n",
       "\u001b[39m\n",
       "\u001b[32mimport \u001b[39m\u001b[36mhw2stdlib_newer._\u001b[39m"
      ]
     },
     "execution_count": 2,
     "metadata": {},
     "output_type": "execute_result"
    }
   ],
   "source": [
    "import $file.hw2stdlib_newer\n",
    "import hw2stdlib_newer._"
   ]
  },
  {
   "cell_type": "markdown",
   "metadata": {},
   "source": [
    "# Homework 2\n",
    "\n",
    "Due 6/18 at 11:59pm\n",
    "\n",
    "## Submission Instructions\n",
    "Upload only this .ipynb file to Canvas. Do not add anything to hw2stdlib since you can't submit it.\n",
    "\n",
    "In this homework we will develop more useful functions for numbers as well as some of the functions on lists that we spoke about during lecture.\n",
    "\n",
    "## Arithmetic Functions\n",
    "\n",
    "### Problem 1 (5 Points)\n",
    "\n",
    "Write the minus function, which subtracts a natural number from another natural number. If the result would be less than zero then leave the answer as zero.\n",
    "\n"
   ]
  },
  {
   "cell_type": "code",
   "execution_count": 3,
   "metadata": {},
   "outputs": [
    {
     "data": {
      "text/plain": [
       "defined \u001b[32mfunction\u001b[39m \u001b[36mminus\u001b[39m"
      ]
     },
     "execution_count": 3,
     "metadata": {},
     "output_type": "execute_result"
    }
   ],
   "source": [
    "def minus(x : Nat, y : Nat) : Nat = \n",
    "    // YOUR CODE HERE\n",
    "    x match {\n",
    "        case Zero => Zero\n",
    "        case Succ(x) => y match {\n",
    "            case Zero => Succ(x)\n",
    "            case Succ(Zero) => x\n",
    "            case Succ(y) => minus(x,y)\n",
    "        }\n",
    "    }"
   ]
  },
  {
   "cell_type": "code",
   "execution_count": 4,
   "metadata": {},
   "outputs": [],
   "source": [
    "\n",
    "assert(minus(four, two) == two, 1)\n",
    "assert(minus(four, Zero) == four, 2)\n",
    "assert(minus(Zero, four) == Zero, 3)"
   ]
  },
  {
   "cell_type": "markdown",
   "metadata": {},
   "source": [
    "### Problem 2 (5 points)\n",
    "\n",
    "Define the $\\texttt{pow}$ function, which raises a natural number to some power. Notationally: \n",
    "\n",
    "$$\n",
    "f\\ x\\ y = x^y\n",
    "$$\n",
    "\n",
    "Hint: Use the mult function from the stdlib for help"
   ]
  },
  {
   "cell_type": "code",
   "execution_count": 5,
   "metadata": {},
   "outputs": [
    {
     "data": {
      "text/plain": [
       "defined \u001b[32mfunction\u001b[39m \u001b[36mpow\u001b[39m"
      ]
     },
     "execution_count": 5,
     "metadata": {},
     "output_type": "execute_result"
    }
   ],
   "source": [
    "// YOUR CODE HERE\n",
    "def pow(x : Nat, y : Nat) : Nat = \n",
    "    x match {\n",
    "        case Zero => Zero\n",
    "        case Succ(x) => y match {\n",
    "            case Zero => Succ(Zero)\n",
    "            case Succ(y) => mult(Succ(x),mult(Succ(x),y))\n",
    "        }\n",
    "    }"
   ]
  },
  {
   "cell_type": "code",
   "execution_count": 6,
   "metadata": {},
   "outputs": [],
   "source": [
    "assert(pow(three, two) == nine, 1)\n",
    "assert(pow(four, Zero) == one, 2)\n",
    "assert(pow(two, two) == four, 3)"
   ]
  },
  {
   "cell_type": "markdown",
   "metadata": {},
   "source": [
    "### Problem 3 (5 points)\n",
    "\n",
    "Write the \"equals to\" function for numbers. This function should return $True$ if $x == y$ and $False$ otherwise."
   ]
  },
  {
   "cell_type": "code",
   "execution_count": 7,
   "metadata": {},
   "outputs": [
    {
     "data": {
      "text/plain": [
       "defined \u001b[32mfunction\u001b[39m \u001b[36meq_nat\u001b[39m"
      ]
     },
     "execution_count": 7,
     "metadata": {},
     "output_type": "execute_result"
    }
   ],
   "source": [
    "def eq_nat(x : Nat, y : Nat) : Bool =\n",
    "    // YOUR CODE HERE\n",
    "    (x,y) match{\n",
    "        case (Zero,Zero) => True\n",
    "        case (Zero,Succ(y))=> False\n",
    "        case (Succ(x),Zero) => False\n",
    "        case (Succ(x),Succ(y)) => eq_nat(x,y)\n",
    "    }"
   ]
  },
  {
   "cell_type": "code",
   "execution_count": 8,
   "metadata": {},
   "outputs": [],
   "source": [
    "assert(eq_nat(four, four) == True, 1)\n",
    "assert(eq_nat(four, Zero) == False, 2)\n",
    "assert(eq_nat(eight, nine) == False, 3)\n",
    "assert(eq_nat(nine, nine) == True, 4)"
   ]
  },
  {
   "cell_type": "markdown",
   "metadata": {},
   "source": [
    "## Functions on Lists of Numbers\n",
    "\n",
    "### Problem 4 (5 pts)\n",
    "\n",
    "Write the sum function. This function should take a list of natural numbers and return their sum. Here is the type:\n",
    "\n",
    "$$\n",
    "sum : \\text{List}\\ \\mathbb{N} \\rightarrow \\mathbb{N}\n",
    "$$\n",
    "\n",
    "Hint: An empty list should have sum 0."
   ]
  },
  {
   "cell_type": "code",
   "execution_count": 9,
   "metadata": {},
   "outputs": [
    {
     "data": {
      "text/plain": [
       "defined \u001b[32mfunction\u001b[39m \u001b[36msum\u001b[39m"
      ]
     },
     "execution_count": 9,
     "metadata": {},
     "output_type": "execute_result"
    }
   ],
   "source": [
    "// YOUR CODE HERE\n",
    "def sum(xs : List[Nat]) : Nat =\n",
    "    // YOUR CODE HERE\n",
    "    xs match{\n",
    "        case Empty => Zero\n",
    "        case Cons(x,Empty) => x\n",
    "        case Cons(x,xs) => plus(x,sum(xs))\n",
    "        \n",
    "    }"
   ]
  },
  {
   "cell_type": "code",
   "execution_count": 10,
   "metadata": {},
   "outputs": [],
   "source": [
    "assert(sum(Cons(one, Empty)) == one, 1)\n",
    "assert(sum(Cons(one, Cons(seven, Cons(two, Empty)))) == ten, 2)"
   ]
  },
  {
   "cell_type": "markdown",
   "metadata": {},
   "source": [
    "### Problem 5 (5 pts)\n",
    "\n",
    "Write the product function. This function should take alist of natural numbers and return their product. Here is the type:\n",
    "\n",
    "$$\n",
    "prod : \\text{List}\\ \\mathbb{N} \\rightarrow \\mathbb{N}\n",
    "$$\n",
    "\n",
    "Hint: An empty list should have product 1."
   ]
  },
  {
   "cell_type": "code",
   "execution_count": 11,
   "metadata": {},
   "outputs": [
    {
     "data": {
      "text/plain": [
       "defined \u001b[32mfunction\u001b[39m \u001b[36mprod\u001b[39m"
      ]
     },
     "execution_count": 11,
     "metadata": {},
     "output_type": "execute_result"
    }
   ],
   "source": [
    "// YOUR CODE HERE\n",
    "def prod(xs : List[Nat]) : Nat =\n",
    "    // YOUR CODE HERE\n",
    "    xs match{\n",
    "        case Empty => Succ(Zero)\n",
    "        case Cons(x,Empty) => x\n",
    "        case Cons(x,xs) => mult(x,prod(xs))\n",
    "        \n",
    "    }"
   ]
  },
  {
   "cell_type": "code",
   "execution_count": 12,
   "metadata": {},
   "outputs": [
    {
     "data": {
      "text/plain": [
       "\u001b[36mfourteen\u001b[39m: \u001b[32mSucc\u001b[39m = \u001b[33mSucc\u001b[39m(\n",
       "  \u001b[33mSucc\u001b[39m(\n",
       "    \u001b[33mSucc\u001b[39m(\u001b[33mSucc\u001b[39m(\u001b[33mSucc\u001b[39m(\u001b[33mSucc\u001b[39m(\u001b[33mSucc\u001b[39m(\u001b[33mSucc\u001b[39m(\u001b[33mSucc\u001b[39m(\u001b[33mSucc\u001b[39m(\u001b[33mSucc\u001b[39m(\u001b[33mSucc\u001b[39m(\u001b[33mSucc\u001b[39m(\u001b[33mSucc\u001b[39m(Zero))))))))))))\n",
       "  )\n",
       ")"
      ]
     },
     "execution_count": 12,
     "metadata": {},
     "output_type": "execute_result"
    }
   ],
   "source": [
    "assert(prod(Cons(one, Empty)) == one, 1)\n",
    "val fourteen = Succ(Succ(Succ(Succ(ten))))\n",
    "assert(prod(Cons(one, Cons(seven, Cons(two, Empty)))) == fourteen, 2)"
   ]
  },
  {
   "cell_type": "markdown",
   "metadata": {},
   "source": [
    "### Problem 6 (6 pts)\n",
    "\n",
    "Write the function that tells us if a given natural number is in a list of natural numbers. (you will need to use the equals function defined in problem 3)\n",
    "\n",
    "$$\n",
    "in : \\mathbb{N} \\rightarrow \\text{List}\\ \\mathbb{N} \\rightarrow \\mathbb{B}\n",
    "$$"
   ]
  },
  {
   "cell_type": "code",
   "execution_count": 13,
   "metadata": {},
   "outputs": [
    {
     "data": {
      "text/plain": [
       "defined \u001b[32mfunction\u001b[39m \u001b[36min\u001b[39m"
      ]
     },
     "execution_count": 13,
     "metadata": {},
     "output_type": "execute_result"
    }
   ],
   "source": [
    "// YOUR CODE HERE\n",
    "def in(num: Nat,xs: List[Nat]) : Bool =\n",
    "     xs match{\n",
    "         case Empty => False\n",
    "         case Cons(x,Empty) => eq_nat(x,num)\n",
    "         case Cons(x,xs) => eq_nat(x,num) match{\n",
    "             case True => True\n",
    "             case False => in(num,xs)\n",
    "         }\n",
    "     }"
   ]
  },
  {
   "cell_type": "code",
   "execution_count": 14,
   "metadata": {},
   "outputs": [],
   "source": [
    "assert(in(one, Cons(one, Empty)) == True, 1)\n",
    "assert(in(seven, Cons(one, Cons(seven, Cons(two, Empty)))) == True, 2)\n",
    "assert(in(eight, Cons(one, Cons(seven, Cons(two, Empty)))) == False, 3)\n",
    "assert(in(seven, Empty) == False, 4)"
   ]
  },
  {
   "cell_type": "markdown",
   "metadata": {},
   "source": [
    "## Miscellaneous Useful Function"
   ]
  },
  {
   "cell_type": "markdown",
   "metadata": {},
   "source": [
    "### Problem 7 (5 points)\n",
    "Implement a function $$ifThenElse: \\mathbb{B} \\rightarrow a \\rightarrow a \\rightarrow a$$ which chooses either the first $A$ given if the bool is true or the second if it's false."
   ]
  },
  {
   "cell_type": "code",
   "execution_count": 15,
   "metadata": {},
   "outputs": [
    {
     "data": {
      "text/plain": [
       "defined \u001b[32mfunction\u001b[39m \u001b[36mifThenElse\u001b[39m"
      ]
     },
     "execution_count": 15,
     "metadata": {},
     "output_type": "execute_result"
    }
   ],
   "source": [
    "// YOUR CODE HERE\n",
    "def ifThenElse(b: Bool)(x: Nat)(y: Nat) : Nat =\n",
    "    // YOUR CODE HERE\n",
    "    b match{\n",
    "        case True => x\n",
    "        case False => y\n",
    "    }"
   ]
  },
  {
   "cell_type": "code",
   "execution_count": 16,
   "metadata": {},
   "outputs": [],
   "source": [
    "assert(ifThenElse(True)(one)(two) == one)\n",
    "assert(ifThenElse(False)(one)(two) == two)"
   ]
  },
  {
   "cell_type": "markdown",
   "metadata": {},
   "source": [
    "## Higher-Order Functions"
   ]
  },
  {
   "cell_type": "markdown",
   "metadata": {},
   "source": [
    "### Problem 8 (5 Points)\n",
    "\n",
    "Write the filter function. Remember that this should be polymorphic. So:\n",
    "\n",
    "$$\n",
    "filter : (a \\rightarrow \\mathbb{B}) \\rightarrow List\\ a \\rightarrow List\\ a\n",
    "$$\n",
    "\n",
    "Do not curry the parameters in the Scala version. If the predicate (The function we give it) is true for an element, then that element will be in the output list. If it's false leave it out."
   ]
  },
  {
   "cell_type": "code",
   "execution_count": 17,
   "metadata": {},
   "outputs": [
    {
     "data": {
      "text/plain": [
       "defined \u001b[32mfunction\u001b[39m \u001b[36mfilter\u001b[39m"
      ]
     },
     "execution_count": 17,
     "metadata": {},
     "output_type": "execute_result"
    }
   ],
   "source": [
    "// YOUR CODE HERE\n",
    "def filter[A,B](f: (A=>B), xs: List[A]): List[A]= xs match{\n",
    "    case Empty=> Empty\n",
    "    case Cons(x, xs)=> f(x) match {\n",
    "        case True => Cons(x,filter(f,xs))\n",
    "        case False => filter(f,xs)\n",
    "    }\n",
    "}"
   ]
  },
  {
   "cell_type": "code",
   "execution_count": 18,
   "metadata": {},
   "outputs": [],
   "source": [
    "assert(filter((n: Nat) => lte(n, two), Cons(three, Cons(two, Empty))) == Cons(two, Empty), 1)\n",
    "assert(filter((n: Nat) => lte(n, two), Empty) == Empty, 2)\n",
    "assert(filter((n: Nat) => lte(n, four), Cons(three, Cons(two, Empty))) == Cons(three, Cons(two, Empty)), 3)"
   ]
  },
  {
   "cell_type": "markdown",
   "metadata": {},
   "source": [
    "### Problem 9 (5 Points)\n",
    "\n",
    "Implement the same filter function using a `fold`. Name it `filterWithFold`. (Hint, take a look at the `append` and / or `reverse` functions in the standard library)."
   ]
  },
  {
   "cell_type": "code",
   "execution_count": 18,
   "metadata": {},
   "outputs": [
    {
     "name": "stderr",
     "output_type": "stream",
     "text": [
      "cmd18.sc:3: type mismatch;\n",
      " found   : B\n",
      " required: cmd18.this.hw2stdlib_newer.List[A]\n",
      "    case Cons(x, xs)=> fold((n: A,b: B) => f(n),f(x),xs)\n",
      "                           ^Compilation Failed"
     ]
    },
    {
     "ename": "",
     "evalue": "",
     "output_type": "error",
     "traceback": [
      "Compilation Failed"
     ]
    }
   ],
   "source": [
    "// YOUR CODE HERE\n",
    "def filterWithFold[A,B](f: (A=>B), xs: List[A]): List[A]= xs match{\n",
    "    case Empty=> Empty\n",
    "    case Cons(x, xs)=> fold((n: A,b: B) => f(n),f(x),xs)\n",
    "}"
   ]
  },
  {
   "cell_type": "code",
   "execution_count": 20,
   "metadata": {},
   "outputs": [
    {
     "name": "stderr",
     "output_type": "stream",
     "text": [
      "cmd20.sc:1: not found: value filterWithFold\n",
      "val res20_0 = assert(filterWithFold((n: Nat) => lte(n, two), Cons(three, Cons(two, Empty))) == Cons(two, Empty), 1)\n",
      "                     ^cmd20.sc:2: not found: value filterWithFold\n",
      "val res20_1 = assert(filterWithFold((n: Nat) => lte(n, two), Empty) == Empty, 2)\n",
      "                     ^cmd20.sc:3: not found: value filterWithFold\n",
      "val res20_2 = assert(filterWithFold((n: Nat) => lte(n, four), Cons(three, Cons(two, Empty))) == Cons(three, Cons(two, Empty)), 3)\n",
      "                     ^Compilation Failed"
     ]
    },
    {
     "ename": "",
     "evalue": "",
     "output_type": "error",
     "traceback": [
      "Compilation Failed"
     ]
    }
   ],
   "source": [
    "assert(filterWithFold((n: Nat) => lte(n, two), Cons(three, Cons(two, Empty))) == Cons(two, Empty), 1)\n",
    "assert(filterWithFold((n: Nat) => lte(n, two), Empty) == Empty, 2)\n",
    "assert(filterWithFold((n: Nat) => lte(n, four), Cons(three, Cons(two, Empty))) == Cons(three, Cons(two, Empty)), 3)"
   ]
  },
  {
   "cell_type": "markdown",
   "metadata": {},
   "source": [
    "\n",
    "\n",
    "\n",
    "\n",
    "\n",
    "## Implementing the ```Maybe``` Type"
   ]
  },
  {
   "cell_type": "markdown",
   "metadata": {},
   "source": [
    "### Problem 10 (5 points)\n",
    "Implement the `Maybe` type:\n",
    "$$\n",
    "\\begin{align}\n",
    "Maybe\\ a\\ :=\\ \\text{None}\\ \\mid\\ \\text{Just}\\ a\\\n",
    "\\end{align}\n",
    "$$\n",
    "Take a look at the definition of `List` in the stdlib as a starting point"
   ]
  },
  {
   "cell_type": "code",
   "execution_count": null,
   "metadata": {},
   "outputs": [],
   "source": [
    "// YOUR CODE HERE\n",
    "sealed trait Maybe[+A]\n",
    "case object None extends Maybe[Nothing]\n",
    "case class Just[A](x : A) extends Maybe[A]"
   ]
  },
  {
   "cell_type": "code",
   "execution_count": null,
   "metadata": {},
   "outputs": [],
   "source": [
    "\n",
    "val mx: Maybe[Nat] = None\n",
    "val my = Just(three)\n",
    "(None: Maybe[Nat]) match {\n",
    "    case None => two\n",
    "    case Just(n) => three\n",
    "}"
   ]
  },
  {
   "cell_type": "markdown",
   "metadata": {},
   "source": [
    "### Problem 11 (5 points)\n",
    "Implement\n",
    "\n",
    "$$\n",
    "map: (a \\rightarrow b) \\rightarrow Maybe\\ a \\rightarrow Maybe\\ b\n",
    "$$\n",
    "\n",
    "Don't curry the function in the Scala implementation. Similarly to lists, it should return `None` if given `None` and should return `Just(f(value))` if it contains a value."
   ]
  },
  {
   "cell_type": "code",
   "execution_count": 19,
   "metadata": {},
   "outputs": [
    {
     "data": {
      "text/plain": [
       "defined \u001b[32mfunction\u001b[39m \u001b[36mmap\u001b[39m"
      ]
     },
     "execution_count": 19,
     "metadata": {},
     "output_type": "execute_result"
    }
   ],
   "source": [
    "// YOUR CODE HERE\n",
    "def map[A,B](f : (A => B), x : Maybe[A]) : Maybe[B] = x match {\n",
    "    case None => None\n",
    "    case Just(x)=> Just(f(x))\n",
    "}"
   ]
  },
  {
   "cell_type": "code",
   "execution_count": 20,
   "metadata": {},
   "outputs": [],
   "source": [
    "assert(map(plus(_: Nat, four), None) == None)\n",
    "assert(map(plus(_: Nat, four), Just(one)) == Just(five))"
   ]
  }
 ],
 "metadata": {
  "kernelspec": {
   "display_name": "Scala",
   "language": "scala",
   "name": "scala"
  },
  "language_info": {
   "codemirror_mode": "text/x-scala",
   "file_extension": ".scala",
   "mimetype": "text/x-scala",
   "name": "scala",
   "nbconvert_exporter": "script",
   "version": "2.12.11"
  }
 },
 "nbformat": 4,
 "nbformat_minor": 2
}
