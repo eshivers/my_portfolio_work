{
 "cells": [
  {
   "cell_type": "code",
   "execution_count": 40,
   "metadata": {},
   "outputs": [
    {
     "data": {
      "text/plain": [
       "\u001b[32mimport \u001b[39m\u001b[36m$file.$         \n",
       "\u001b[39m\n",
       "\u001b[32mimport \u001b[39m\u001b[36mrec4stdlib._\u001b[39m"
      ]
     },
     "execution_count": 40,
     "metadata": {},
     "output_type": "execute_result"
    }
   ],
   "source": [
    "import $file.rec4stdlib\n",
    "import rec4stdlib._"
   ]
  },
  {
   "cell_type": "markdown",
   "metadata": {},
   "source": [
    "# Recitation: Week 4\n",
    "\n",
    "This week's recitation is a review of FP concepts. \n",
    "These problems involve the following definition of binary trees:\n",
    "\n",
    "$$\n",
    "\\begin{align}\n",
    "BTree\\ a\\ :=&\\ \\text{Leaf} \\\\\n",
    "          \\mid&\\ \\text{Branch}\\ (BTree\\ a)\\ a\\ (BTree\\ a)\\\n",
    "\\end{align}\n",
    "$$"
   ]
  },
  {
   "cell_type": "code",
   "execution_count": 25,
   "metadata": {},
   "outputs": [
    {
     "data": {
      "text/plain": [
       "defined \u001b[32mtrait\u001b[39m \u001b[36mBTree\u001b[39m\n",
       "defined \u001b[32mobject\u001b[39m \u001b[36mLeaf\u001b[39m\n",
       "defined \u001b[32mclass\u001b[39m \u001b[36mBranch\u001b[39m"
      ]
     },
     "execution_count": 25,
     "metadata": {},
     "output_type": "execute_result"
    }
   ],
   "source": [
    "sealed trait BTree[+A]\n",
    "case object Leaf extends BTree[Nothing]\n",
    "case class Branch[A](left: BTree[A], data: A, right: BTree[A]) extends BTree[A]"
   ]
  },
  {
   "cell_type": "markdown",
   "metadata": {},
   "source": [
    "## 1 *Inductive values*\n",
    "\n",
    "Create the following tree as a value in Scala:\n",
    "```\n",
    "    5\n",
    "   / \\\n",
    "  4   3\n",
    " /   / \\\n",
    "2   7   5\n",
    "```"
   ]
  },
  {
   "cell_type": "code",
   "execution_count": 26,
   "metadata": {},
   "outputs": [
    {
     "data": {
      "text/plain": [
       "\u001b[36mroot3\u001b[39m: \u001b[32mBranch\u001b[39m[\u001b[32mInt\u001b[39m] = \u001b[33mBranch\u001b[39m(\u001b[33mBranch\u001b[39m(Leaf, \u001b[32m7\u001b[39m, Leaf), \u001b[32m3\u001b[39m, \u001b[33mBranch\u001b[39m(Leaf, \u001b[32m5\u001b[39m, Leaf))\n",
       "\u001b[36mroot4\u001b[39m: \u001b[32mBranch\u001b[39m[\u001b[32mInt\u001b[39m] = \u001b[33mBranch\u001b[39m(\u001b[33mBranch\u001b[39m(Leaf, \u001b[32m2\u001b[39m, Leaf), \u001b[32m4\u001b[39m, Leaf)\n",
       "\u001b[36mans1\u001b[39m: \u001b[32mBranch\u001b[39m[\u001b[32mInt\u001b[39m] = \u001b[33mBranch\u001b[39m(\n",
       "  \u001b[33mBranch\u001b[39m(\u001b[33mBranch\u001b[39m(Leaf, \u001b[32m2\u001b[39m, Leaf), \u001b[32m4\u001b[39m, Leaf),\n",
       "  \u001b[32m5\u001b[39m,\n",
       "  \u001b[33mBranch\u001b[39m(\u001b[33mBranch\u001b[39m(Leaf, \u001b[32m7\u001b[39m, Leaf), \u001b[32m3\u001b[39m, \u001b[33mBranch\u001b[39m(Leaf, \u001b[32m5\u001b[39m, Leaf))\n",
       ")"
      ]
     },
     "execution_count": 26,
     "metadata": {},
     "output_type": "execute_result"
    }
   ],
   "source": [
    "val root3 = Branch(Branch(Leaf, 7, Leaf), 3, Branch(Leaf, 5, Leaf))\n",
    "val root4 = Branch(Branch(Leaf, 2, Leaf), 4, Leaf)\n",
    "val ans1 = Branch(root4, 5, root3)"
   ]
  },
  {
   "cell_type": "markdown",
   "metadata": {},
   "source": [
    "## 2a Height of a Tree using *Recursion and pattern matching*\n",
    "\n",
    "Write the following function (for use in 2b):\n",
    "$$\\text{max}: Nat \\rightarrow Nat \\rightarrow Nat$$\n",
    "which returns the greater of the two inputs."
   ]
  },
  {
   "cell_type": "code",
   "execution_count": 27,
   "metadata": {},
   "outputs": [
    {
     "data": {
      "text/plain": [
       "defined \u001b[32mfunction\u001b[39m \u001b[36mmax\u001b[39m"
      ]
     },
     "execution_count": 27,
     "metadata": {},
     "output_type": "execute_result"
    }
   ],
   "source": [
    "def max(x: Nat, y: Nat): Nat = (x, y) match {\n",
    "    case (Zero, _)=> y\n",
    "    case (_, Zero)=> x\n",
    "    case (Succ(px), Succ(py)) => Succ(max(px, py))\n",
    "}"
   ]
  },
  {
   "cell_type": "code",
   "execution_count": 28,
   "metadata": {},
   "outputs": [],
   "source": [
    "assert(max(one, two) == two)\n",
    "assert(max(five, Zero) == five)\n",
    "assert(max(five, five) == five)"
   ]
  },
  {
   "cell_type": "markdown",
   "metadata": {},
   "source": [
    "## 2b *More recursion*\n",
    "\n",
    "Write the following function:\n",
    "$$\\text{height}: BTree \\rightarrow Nat$$\n",
    "which gives the height of a tree. Check the height of the tree you made in 1a to double check."
   ]
  },
  {
   "cell_type": "code",
   "execution_count": 29,
   "metadata": {},
   "outputs": [
    {
     "data": {
      "text/plain": [
       "defined \u001b[32mfunction\u001b[39m \u001b[36mheight\u001b[39m"
      ]
     },
     "execution_count": 29,
     "metadata": {},
     "output_type": "execute_result"
    }
   ],
   "source": [
    "def height[A](t: BTree[A]):Nat = t match {\n",
    "    case Leaf=> Zero\n",
    "    case Branch(l, _, r)=> Succ(max(height(l), height(r)))\n",
    "}"
   ]
  },
  {
   "cell_type": "code",
   "execution_count": 30,
   "metadata": {},
   "outputs": [],
   "source": [
    "assert(height(Leaf) == Zero)\n",
    "assert(height(Branch(Leaf, five, Branch(Leaf, one, Leaf))) == two)"
   ]
  },
  {
   "cell_type": "markdown",
   "metadata": {},
   "source": [
    "## 3a Use Map on BTrees\n",
    "*map and higher order functions*\n",
    "\n",
    "\n",
    "`map` is not only definable on lists, it can be used with many different data structures. For this problem, define map for BTrees:\n",
    "$$\\text{map_tree}: (a \\rightarrow b) \\rightarrow BTree\\ a \\rightarrow BTree\\ b$$"
   ]
  },
  {
   "cell_type": "code",
   "execution_count": 31,
   "metadata": {
    "scrolled": true
   },
   "outputs": [
    {
     "data": {
      "text/plain": [
       "defined \u001b[32mfunction\u001b[39m \u001b[36mmap_tree\u001b[39m"
      ]
     },
     "execution_count": 31,
     "metadata": {},
     "output_type": "execute_result"
    }
   ],
   "source": [
    "def map_tree[A, B](f: A=> B, t: BTree[A]): BTree[B]= t match {\n",
    "    case Leaf=> Leaf\n",
    "    case Branch(l, d, r)=> Branch(map_tree(f, l), f(d), map_tree(f, r))\n",
    "}"
   ]
  },
  {
   "cell_type": "code",
   "execution_count": 32,
   "metadata": {},
   "outputs": [],
   "source": [
    "assert(map_tree(Succ(_: Nat), Leaf) == Leaf)"
   ]
  },
  {
   "cell_type": "markdown",
   "metadata": {},
   "source": [
    "## 3b Apply Negation on Boolean type BTree \n",
    "*map and lambdas*\n",
    "\n",
    "Change the following tree by negating each element (maybe using a function you just defined... hint hint)."
   ]
  },
  {
   "cell_type": "code",
   "execution_count": 33,
   "metadata": {},
   "outputs": [
    {
     "data": {
      "text/plain": [
       "\u001b[36mt\u001b[39m: \u001b[32mBranch\u001b[39m[\u001b[32mProduct\u001b[39m with \u001b[32mBool\u001b[39m with \u001b[32mSerializable\u001b[39m] = \u001b[33mBranch\u001b[39m(\n",
       "  \u001b[33mBranch\u001b[39m(Leaf, True, Leaf),\n",
       "  False,\n",
       "  \u001b[33mBranch\u001b[39m(Leaf, False, \u001b[33mBranch\u001b[39m(Leaf, True, Leaf))\n",
       ")\n",
       "\u001b[36mans3b\u001b[39m: \u001b[32mBTree\u001b[39m[\u001b[32mBool\u001b[39m] = \u001b[33mBranch\u001b[39m(\n",
       "  \u001b[33mBranch\u001b[39m(Leaf, False, Leaf),\n",
       "  True,\n",
       "  \u001b[33mBranch\u001b[39m(Leaf, True, \u001b[33mBranch\u001b[39m(Leaf, False, Leaf))\n",
       ")"
      ]
     },
     "execution_count": 33,
     "metadata": {},
     "output_type": "execute_result"
    }
   ],
   "source": [
    "val t = Branch(Branch(Leaf, True, Leaf), False, Branch(Leaf, False, Branch(Leaf, True, Leaf)))\n",
    "val ans3b = map_tree(not(_: Bool), t)"
   ]
  },
  {
   "cell_type": "code",
   "execution_count": 34,
   "metadata": {},
   "outputs": [],
   "source": [
    "assert(ans3b == Branch(Branch(Leaf,False,Leaf),True,Branch(Leaf,True,Branch(Leaf,False,Leaf))))"
   ]
  },
  {
   "cell_type": "markdown",
   "metadata": {},
   "source": [
    "## 3c Use Filter on BTree\n",
    "*filter and lambdas*\n",
    "\n",
    "Keep only trees from the following list with height less than or equal to 1 (hint: use a stdlib function)."
   ]
  },
  {
   "cell_type": "code",
   "execution_count": 35,
   "metadata": {},
   "outputs": [
    {
     "data": {
      "text/plain": [
       "\u001b[36mt1\u001b[39m: \u001b[32mLeaf\u001b[39m.type = Leaf\n",
       "\u001b[36mt2\u001b[39m: \u001b[32mBranch\u001b[39m[\u001b[32mSucc\u001b[39m] = \u001b[33mBranch\u001b[39m(Leaf, \u001b[33mSucc\u001b[39m(Zero), Leaf)\n",
       "\u001b[36mt3\u001b[39m: \u001b[32mBranch\u001b[39m[\u001b[32mSucc\u001b[39m] = \u001b[33mBranch\u001b[39m(\n",
       "  Leaf,\n",
       "  \u001b[33mSucc\u001b[39m(\u001b[33mSucc\u001b[39m(Zero)),\n",
       "  \u001b[33mBranch\u001b[39m(Leaf, \u001b[33mSucc\u001b[39m(Zero), Leaf)\n",
       ")\n",
       "\u001b[36mt4\u001b[39m: \u001b[32mBranch\u001b[39m[\u001b[32mSucc\u001b[39m] = \u001b[33mBranch\u001b[39m(\n",
       "  \u001b[33mBranch\u001b[39m(Leaf, \u001b[33mSucc\u001b[39m(\u001b[33mSucc\u001b[39m(Zero)), \u001b[33mBranch\u001b[39m(Leaf, \u001b[33mSucc\u001b[39m(Zero), Leaf)),\n",
       "  \u001b[33mSucc\u001b[39m(\u001b[33mSucc\u001b[39m(Zero)),\n",
       "  \u001b[33mBranch\u001b[39m(Leaf, \u001b[33mSucc\u001b[39m(\u001b[33mSucc\u001b[39m(Zero)), \u001b[33mBranch\u001b[39m(Leaf, \u001b[33mSucc\u001b[39m(Zero), Leaf))\n",
       ")\n",
       "\u001b[36mt5\u001b[39m: \u001b[32mBranch\u001b[39m[\u001b[32mSucc\u001b[39m] = \u001b[33mBranch\u001b[39m(\n",
       "  \u001b[33mBranch\u001b[39m(Leaf, \u001b[33mSucc\u001b[39m(Zero), Leaf),\n",
       "  \u001b[33mSucc\u001b[39m(\u001b[33mSucc\u001b[39m(Zero)),\n",
       "  Leaf\n",
       ")\n",
       "\u001b[36ml\u001b[39m: \u001b[32mCons\u001b[39m[\u001b[32mProduct\u001b[39m with \u001b[32mBTree\u001b[39m[\u001b[32mSucc\u001b[39m] with \u001b[32mSerializable\u001b[39m] = \u001b[33mCons\u001b[39m(\n",
       "  Leaf,\n",
       "  \u001b[33mCons\u001b[39m(\n",
       "    \u001b[33mBranch\u001b[39m(Leaf, \u001b[33mSucc\u001b[39m(Zero), Leaf),\n",
       "    \u001b[33mCons\u001b[39m(\n",
       "      \u001b[33mBranch\u001b[39m(Leaf, \u001b[33mSucc\u001b[39m(\u001b[33mSucc\u001b[39m(Zero)), \u001b[33mBranch\u001b[39m(Leaf, \u001b[33mSucc\u001b[39m(Zero), Leaf)),\n",
       "      \u001b[33mCons\u001b[39m(\n",
       "        \u001b[33mBranch\u001b[39m(\n",
       "          \u001b[33mBranch\u001b[39m(Leaf, \u001b[33mSucc\u001b[39m(\u001b[33mSucc\u001b[39m(Zero)), \u001b[33mBranch\u001b[39m(Leaf, \u001b[33mSucc\u001b[39m(Zero), Leaf)),\n",
       "          \u001b[33mSucc\u001b[39m(\u001b[33mSucc\u001b[39m(Zero)),\n",
       "          \u001b[33mBranch\u001b[39m(Leaf, \u001b[33mSucc\u001b[39m(\u001b[33mSucc\u001b[39m(Zero)), \u001b[33mBranch\u001b[39m(Leaf, \u001b[33mSucc\u001b[39m(Zero), Leaf))\n",
       "        ),\n",
       "        \u001b[33mCons\u001b[39m(\n",
       "          \u001b[33mBranch\u001b[39m(\u001b[33mBranch\u001b[39m(Leaf, \u001b[33mSucc\u001b[39m(Zero), Leaf), \u001b[33mSucc\u001b[39m(\u001b[33mSucc\u001b[39m(Zero)), Leaf),\n",
       "          Empty\n",
       "        )\n",
       "      )\n",
       "    )\n",
       "  )\n",
       ")"
      ]
     },
     "execution_count": 35,
     "metadata": {},
     "output_type": "execute_result"
    }
   ],
   "source": [
    "val t1 = Leaf // 0\n",
    "val t2 = Branch(t1, one, t1) // 1\n",
    "val t3 = Branch(t1, two, t2) // 2\n",
    "val t4 = Branch(t3, two, t3) // 3\n",
    "val t5 = Branch(t2, two, t1) // 2\n",
    "val l = Cons(t1, Cons(t2, Cons(t3, Cons(t4, Cons(t5, Empty)))))"
   ]
  },
  {
   "cell_type": "code",
   "execution_count": 36,
   "metadata": {},
   "outputs": [
    {
     "data": {
      "text/plain": [
       "\u001b[36mans2c\u001b[39m: \u001b[32mList\u001b[39m[\u001b[32mProduct\u001b[39m with \u001b[32mBTree\u001b[39m[\u001b[32mSucc\u001b[39m] with \u001b[32mSerializable\u001b[39m] = \u001b[33mCons\u001b[39m(\n",
       "  Leaf,\n",
       "  \u001b[33mCons\u001b[39m(\u001b[33mBranch\u001b[39m(Leaf, \u001b[33mSucc\u001b[39m(Zero), Leaf), Empty)\n",
       ")"
      ]
     },
     "execution_count": 36,
     "metadata": {},
     "output_type": "execute_result"
    }
   ],
   "source": [
    "val ans2c = filter((x: BTree[Nat]) => lte(height(x), one), l)"
   ]
  },
  {
   "cell_type": "code",
   "execution_count": 37,
   "metadata": {},
   "outputs": [],
   "source": [
    "assert(ans2c == Cons(Leaf,Cons(Branch(Leaf,Succ(Zero),Leaf),Empty)))"
   ]
  },
  {
   "cell_type": "markdown",
   "metadata": {},
   "source": [
    "## 4a Get data from a Node\n",
    "*Pattern matching*\n",
    "\n",
    "We can address nodes in many ways, for this problem, we will use a list of numbers, with a 0 meaning take a left and a 1 meaning take a right. When the numbers run out, you've reached the desired node. Define the following function that implements this addressing scheme:\n",
    "\n",
    "$$\\text{get_at_addr}: List\\ Nat \\rightarrow BTree\\ a \\rightarrow a$$\n",
    "\n",
    "If you reach a Leaf (no more data) return `???` (this throws a `NotImplementedError`built in exception)."
   ]
  },
  {
   "cell_type": "code",
   "execution_count": 43,
   "metadata": {},
   "outputs": [
    {
     "data": {
      "text/plain": [
       "defined \u001b[32mfunction\u001b[39m \u001b[36mget_at_addr\u001b[39m"
      ]
     },
     "execution_count": 43,
     "metadata": {},
     "output_type": "execute_result"
    }
   ],
   "source": [
    "def get_at_addr[A](path: List[Nat], t: BTree[A]): A= t match {\n",
    "    case Leaf=> ???\n",
    "    case Branch(l, d, r)=> path match {\n",
    "        case Empty=> d\n",
    "        case Cons(Zero, rest)=> get_at_addr(rest, l)\n",
    "        case Cons(_, rest)=> get_at_addr(rest, r)\n",
    "    }\n",
    "}"
   ]
  },
  {
   "cell_type": "code",
   "execution_count": 44,
   "metadata": {},
   "outputs": [],
   "source": [
    "assert(get_at_addr(Cons(one, Empty), Branch(Leaf, four, Branch(Leaf, five, Leaf))) == five)"
   ]
  },
  {
   "cell_type": "markdown",
   "metadata": {},
   "source": [
    "## 4b Add more reliability for error\n",
    "*Maybe*\n",
    "\n",
    "Crashing is usually not what we want on edge cases. Change `get_at_addr` to return a `Maybe[A]` (from the hw) which allows us to represent both a found value and no answer safely. Call it `get_at_addr_maybe`."
   ]
  },
  {
   "cell_type": "code",
   "execution_count": 45,
   "metadata": {
    "scrolled": false
   },
   "outputs": [
    {
     "data": {
      "text/plain": [
       "defined \u001b[32mfunction\u001b[39m \u001b[36mget_at_addr_maybe\u001b[39m"
      ]
     },
     "execution_count": 45,
     "metadata": {},
     "output_type": "execute_result"
    }
   ],
   "source": [
    "def get_at_addr_maybe[A](path: List[Nat], t: BTree[A]): Maybe[A] = t match {\n",
    "    case Leaf=> None\n",
    "    case Branch(l, d, r)=> path match {\n",
    "        case Empty=> Just(d)\n",
    "        case Cons(Zero, rest)=> get_at_addr_maybe(rest, l)\n",
    "        case Cons(_, rest)=> get_at_addr_maybe(rest, r)\n",
    "    }\n",
    "}"
   ]
  },
  {
   "cell_type": "code",
   "execution_count": 46,
   "metadata": {},
   "outputs": [],
   "source": [
    "assert(get_at_addr_maybe(Cons(one, Empty), Branch(Leaf, four, Branch(Leaf, five, Leaf))) == Just(five))\n",
    "assert(get_at_addr_maybe(Cons(Zero, Empty), Branch(Leaf, four, Branch(Leaf, five, Leaf))) == None)"
   ]
  },
  {
   "cell_type": "markdown",
   "metadata": {},
   "source": [
    "## 5 Compose Function\n",
    "\n",
    "Write a function that composes two other functions. A.K.A:\n",
    "\n",
    "$$compose(f, g)(X) == g(f(X))$$\n",
    "\n",
    "It should have the following type:\n",
    "\n",
    "$$\\text{compose}: (a \\rightarrow b) \\rightarrow (b \\rightarrow c) \\rightarrow (a \\rightarrow c)$$"
   ]
  },
  {
   "cell_type": "code",
   "execution_count": 47,
   "metadata": {
    "scrolled": true
   },
   "outputs": [
    {
     "data": {
      "text/plain": [
       "defined \u001b[32mfunction\u001b[39m \u001b[36mcompose\u001b[39m"
      ]
     },
     "execution_count": 47,
     "metadata": {},
     "output_type": "execute_result"
    }
   ],
   "source": [
    "def compose[A,B,C](f: (A=>B), g: (B=>C)): (A=>C) = x => g(f(x))"
   ]
  },
  {
   "cell_type": "code",
   "execution_count": 48,
   "metadata": {},
   "outputs": [],
   "source": [
    "assert(compose(not, not)(True) == not(not(True)))"
   ]
  },
  {
   "cell_type": "markdown",
   "metadata": {},
   "source": [
    "## 6 *Currying, higher order functions*\n",
    "\n",
    "Write a function that curries a 2 parameter function\n",
    "\n",
    "$$\\text{curry}: ((a, b) \\rightarrow c) \\rightarrow (a \\rightarrow b \\rightarrow c)$$"
   ]
  },
  {
   "cell_type": "code",
   "execution_count": 49,
   "metadata": {},
   "outputs": [
    {
     "data": {
      "text/plain": [
       "defined \u001b[32mfunction\u001b[39m \u001b[36mcurry\u001b[39m"
      ]
     },
     "execution_count": 49,
     "metadata": {},
     "output_type": "execute_result"
    }
   ],
   "source": [
    "// currying function is a function takes multiple arguments into a function that takes single argument\n",
    "def curry[A,B,C](f: (A,B)=> C) : A=>B=>C = a=>b=> f(a, b)"
   ]
  },
  {
   "cell_type": "code",
   "execution_count": null,
   "metadata": {},
   "outputs": [],
   "source": [
    "assert(curry(plus(_: Nat, _: Nat))(one)(two) == three)"
   ]
  },
  {
   "cell_type": "code",
   "execution_count": null,
   "metadata": {},
   "outputs": [],
   "source": []
  }
 ],
 "metadata": {
  "kernelspec": {
   "display_name": "Scala",
   "language": "scala",
   "name": "scala"
  },
  "language_info": {
   "codemirror_mode": "text/x-scala",
   "file_extension": ".sc",
   "mimetype": "text/x-scala",
   "name": "scala",
   "nbconvert_exporter": "script",
   "version": "2.13.3"
  }
 },
 "nbformat": 4,
 "nbformat_minor": 2
}
