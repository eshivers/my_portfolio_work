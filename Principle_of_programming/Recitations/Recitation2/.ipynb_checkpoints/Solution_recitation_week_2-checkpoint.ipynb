{
 "cells": [
  {
   "cell_type": "markdown",
   "metadata": {},
   "source": [
    "## Review"
   ]
  },
  {
   "cell_type": "code",
   "execution_count": 60,
   "metadata": {},
   "outputs": [
    {
     "data": {
      "text/plain": [
       "defined \u001b[32mtrait\u001b[39m \u001b[36mNat\u001b[39m\n",
       "defined \u001b[32mobject\u001b[39m \u001b[36mZero\u001b[39m\n",
       "defined \u001b[32mclass\u001b[39m \u001b[36mSucc\u001b[39m"
      ]
     },
     "execution_count": 60,
     "metadata": {},
     "output_type": "execute_result"
    }
   ],
   "source": [
    "// Defined ADT using constructor\n",
    "sealed trait Nat\n",
    "case object Zero extends Nat\n",
    "case class  Succ(pred : Nat) extends Nat"
   ]
  },
  {
   "cell_type": "code",
   "execution_count": 61,
   "metadata": {},
   "outputs": [
    {
     "data": {
      "text/plain": [
       "defined \u001b[32mfunction\u001b[39m \u001b[36mone\u001b[39m\n",
       "defined \u001b[32mfunction\u001b[39m \u001b[36mtwo\u001b[39m\n",
       "defined \u001b[32mfunction\u001b[39m \u001b[36mthree\u001b[39m\n",
       "defined \u001b[32mfunction\u001b[39m \u001b[36mfour\u001b[39m\n",
       "defined \u001b[32mfunction\u001b[39m \u001b[36mfive\u001b[39m\n",
       "defined \u001b[32mfunction\u001b[39m \u001b[36msix\u001b[39m\n",
       "defined \u001b[32mfunction\u001b[39m \u001b[36mseven\u001b[39m\n",
       "defined \u001b[32mfunction\u001b[39m \u001b[36meight\u001b[39m"
      ]
     },
     "execution_count": 61,
     "metadata": {},
     "output_type": "execute_result"
    }
   ],
   "source": [
    "def one = Succ(Zero)\n",
    "def two = Succ(Succ(Zero))\n",
    "def three = Succ(two)\n",
    "def four = Succ(three)\n",
    "def five = Succ(four)\n",
    "def six = Succ(five)\n",
    "def seven = Succ(six)\n",
    "def eight = Succ(seven)"
   ]
  },
  {
   "cell_type": "code",
   "execution_count": 62,
   "metadata": {},
   "outputs": [
    {
     "data": {
      "text/plain": [
       "defined \u001b[32mfunction\u001b[39m \u001b[36mplus\u001b[39m"
      ]
     },
     "execution_count": 62,
     "metadata": {},
     "output_type": "execute_result"
    }
   ],
   "source": [
    "def plus(x : Nat, y : Nat) : Nat = x match {\n",
    "    case Zero    => y\n",
    "//     case Succ(x) => Succ(plus(x, y))\n",
    "    case Succ(t) => plus(t, Succ(y)) //plus(2,3)---> plus(1,)\n",
    "}"
   ]
  },
  {
   "cell_type": "code",
   "execution_count": 63,
   "metadata": {},
   "outputs": [
    {
     "data": {
      "text/plain": [
       "defined \u001b[32mtrait\u001b[39m \u001b[36mBool\u001b[39m\n",
       "defined \u001b[32mobject\u001b[39m \u001b[36mTrue\u001b[39m\n",
       "defined \u001b[32mobject\u001b[39m \u001b[36mFalse\u001b[39m"
      ]
     },
     "execution_count": 63,
     "metadata": {},
     "output_type": "execute_result"
    }
   ],
   "source": [
    "sealed trait Bool\n",
    "case object True extends Bool\n",
    "case object False extends Bool\n"
   ]
  },
  {
   "cell_type": "code",
   "execution_count": 64,
   "metadata": {},
   "outputs": [
    {
     "data": {
      "text/plain": [
       "defined \u001b[32mfunction\u001b[39m \u001b[36mnot\u001b[39m"
      ]
     },
     "execution_count": 64,
     "metadata": {},
     "output_type": "execute_result"
    }
   ],
   "source": [
    "def not(x : Bool) : Bool = x match { // using pattern matching\n",
    "    case True => False\n",
    "    case False => True\n",
    "}"
   ]
  },
  {
   "cell_type": "markdown",
   "metadata": {},
   "source": [
    "### Steps to define a type\n",
    "<ul> Use of constructor and Scala traits </ul>\n",
    "<ul> Sealed trait for security </ul>\n",
    "<ul> Define constituents of the data type using cases </ul>\n",
    "<ul> constituents may or may not take arguments </ul>"
   ]
  },
  {
   "cell_type": "markdown",
   "metadata": {},
   "source": [
    "### Steps of writing a function:\n",
    "<ul> Use a def keyword and come up with a function name  </ul>\n",
    "<ul> Specify the Input and output types  </ul>\n",
    "<ul> In case Scala Pattern matching (which will use quite a lot)  </ul>\n",
    "<ul> Decide which varible/expresstion to use match  </ul>\n",
    "<ul> Use of keyword match  </ul>\n",
    "<ul> Inside curly braces create cases to match  </ul>\n",
    "<ul> First case should always be the base case. Since base case is the one where the function terminates we need to write it first </ul>\n",
    "<ul> Recursive case which should eventually hit the base case </ul>"
   ]
  },
  {
   "cell_type": "markdown",
   "metadata": {},
   "source": [
    "# Recitation: Week 2\n",
    "\n",
    "## Topics\n",
    "\n",
    "* Polymorphism\n",
    "\n",
    "## Polymorphism\n",
    "\n",
    "Polymorphic lists will save us a lot of time and effort by having one list type that can store any type inside. Note that we can't mix the types inside.\n",
    "\n",
    "Given our definition of polymorphic lists in class:\n",
    "$$\n",
    "\\begin{align}\n",
    "\\mathbb{List}\\ A\\ :=\\ \\text{Empty}\\ \\mid\\ \\text{Cons}\\ A\\ (\\mathbb{List}\\ A)\n",
    "\\end{align}\n",
    "$$\n",
    "\n",
    "define Polymorphic lists in Scala."
   ]
  },
  {
   "cell_type": "code",
   "execution_count": 65,
   "metadata": {},
   "outputs": [
    {
     "data": {
      "text/plain": [
       "defined \u001b[32mtrait\u001b[39m \u001b[36mList\u001b[39m\n",
       "defined \u001b[32mobject\u001b[39m \u001b[36mEmpty\u001b[39m\n",
       "defined \u001b[32mclass\u001b[39m \u001b[36mCons\u001b[39m"
      ]
     },
     "execution_count": 65,
     "metadata": {},
     "output_type": "execute_result"
    }
   ],
   "source": [
    "sealed trait List[+A]\n",
    "case object Empty extends List[Nothing]\n",
    "case class Cons[A](x: A, xs: List[A]) extends List[A]"
   ]
  },
  {
   "cell_type": "code",
   "execution_count": 34,
   "metadata": {},
   "outputs": [
    {
     "data": {
      "text/plain": [
       "\u001b[36ml1\u001b[39m: \u001b[32mList\u001b[39m[\u001b[32mNat\u001b[39m] = Empty"
      ]
     },
     "execution_count": 34,
     "metadata": {},
     "output_type": "execute_result"
    }
   ],
   "source": [
    "// Tests for polymorphic lists\n",
    "val l1: List[Nat]  = Empty"
   ]
  },
  {
   "cell_type": "code",
   "execution_count": 35,
   "metadata": {},
   "outputs": [
    {
     "data": {
      "text/plain": [
       "\u001b[36ml2\u001b[39m: \u001b[32mList\u001b[39m[\u001b[32mNat\u001b[39m] = \u001b[33mCons\u001b[39m(\n",
       "  \u001b[33mSucc\u001b[39m(Zero),\n",
       "  \u001b[33mCons\u001b[39m(\u001b[33mSucc\u001b[39m(\u001b[33mSucc\u001b[39m(\u001b[33mSucc\u001b[39m(\u001b[33mSucc\u001b[39m(\u001b[33mSucc\u001b[39m(Zero))))), Empty)\n",
       ")"
      ]
     },
     "execution_count": 35,
     "metadata": {},
     "output_type": "execute_result"
    }
   ],
   "source": [
    "val l2: List[Nat]  = Cons(one, Cons(five, l1));"
   ]
  },
  {
   "cell_type": "code",
   "execution_count": 36,
   "metadata": {},
   "outputs": [
    {
     "data": {
      "text/plain": [
       "\u001b[36ml3\u001b[39m: \u001b[32mList\u001b[39m[\u001b[32mBool\u001b[39m] = \u001b[33mCons\u001b[39m(True, \u001b[33mCons\u001b[39m(False, \u001b[33mCons\u001b[39m(True, Empty)))"
      ]
     },
     "execution_count": 36,
     "metadata": {},
     "output_type": "execute_result"
    }
   ],
   "source": [
    "val l3: List[Bool] = Cons(True, Cons(False, Cons(True, Empty)))"
   ]
  },
  {
   "cell_type": "markdown",
   "metadata": {},
   "source": [
    "## Functions on Polymorphic Lists"
   ]
  },
  {
   "cell_type": "markdown",
   "metadata": {},
   "source": [
    "Define a polymorphic function called append which concatenates two lists. E.g.:\n",
    "```scala\n",
    "append(Cons(one, Empty), Cons(two, Empty)) == Cons(one, Cons(two, Empty))\n",
    "```"
   ]
  },
  {
   "cell_type": "code",
   "execution_count": 37,
   "metadata": {},
   "outputs": [
    {
     "data": {
      "text/plain": [
       "defined \u001b[32mfunction\u001b[39m \u001b[36mappend\u001b[39m"
      ]
     },
     "execution_count": 37,
     "metadata": {},
     "output_type": "execute_result"
    }
   ],
   "source": [
    "def append[A](xs: List[A], ys: List[A]): List[A]= xs match{\n",
    "    case Empty=> ys\n",
    "    case Cons(x, xs)=> Cons(x, append(xs, ys))\n",
    "}"
   ]
  },
  {
   "cell_type": "code",
   "execution_count": 38,
   "metadata": {},
   "outputs": [],
   "source": [
    "// Tests for append\n",
    "assert(append(Empty, Empty) == Empty)"
   ]
  },
  {
   "cell_type": "code",
   "execution_count": 39,
   "metadata": {},
   "outputs": [
    {
     "data": {
      "text/plain": [
       "\u001b[36mres38\u001b[39m: \u001b[32mList\u001b[39m[\u001b[32mNothing\u001b[39m] = Empty"
      ]
     },
     "execution_count": 39,
     "metadata": {},
     "output_type": "execute_result"
    }
   ],
   "source": [
    "append(Empty, Empty)"
   ]
  },
  {
   "cell_type": "code",
   "execution_count": 40,
   "metadata": {},
   "outputs": [],
   "source": [
    "assert(append(Cons(six, Cons(four, Empty)), Empty)\n",
    "       == Cons(six, Cons(four, Empty)))"
   ]
  },
  {
   "cell_type": "code",
   "execution_count": 41,
   "metadata": {},
   "outputs": [],
   "source": [
    "assert(append(Cons(two, Cons(four, Empty)), Cons(one, Cons(three, Empty)))\n",
    "       == Cons(two, Cons(four, Cons(one, Cons(three, Empty)))))"
   ]
  },
  {
   "cell_type": "code",
   "execution_count": 42,
   "metadata": {},
   "outputs": [
    {
     "data": {
      "text/plain": [
       "\u001b[36mres41\u001b[39m: \u001b[32mList\u001b[39m[\u001b[32mSucc\u001b[39m] = \u001b[33mCons\u001b[39m(\n",
       "  \u001b[33mSucc\u001b[39m(\u001b[33mSucc\u001b[39m(Zero)),\n",
       "  \u001b[33mCons\u001b[39m(\n",
       "    \u001b[33mSucc\u001b[39m(\u001b[33mSucc\u001b[39m(\u001b[33mSucc\u001b[39m(\u001b[33mSucc\u001b[39m(Zero)))),\n",
       "    \u001b[33mCons\u001b[39m(\u001b[33mSucc\u001b[39m(Zero), \u001b[33mCons\u001b[39m(\u001b[33mSucc\u001b[39m(\u001b[33mSucc\u001b[39m(\u001b[33mSucc\u001b[39m(Zero))), Empty))\n",
       "  )\n",
       ")"
      ]
     },
     "execution_count": 42,
     "metadata": {},
     "output_type": "execute_result"
    }
   ],
   "source": [
    "append(Cons(two, Cons(four, Empty)), Cons(one, Cons(three, Empty)))"
   ]
  },
  {
   "cell_type": "markdown",
   "metadata": {},
   "source": [
    "Define a polymorphic function called reverse which reverses the elements in a list. E.g.:\n",
    "```scala\n",
    "reverse(Cons(one, Cons(two, Empty))) == Cons(two, Cons(one, Empty))\n",
    "```"
   ]
  },
  {
   "cell_type": "code",
   "execution_count": 47,
   "metadata": {},
   "outputs": [
    {
     "data": {
      "text/plain": [
       "defined \u001b[32mfunction\u001b[39m \u001b[36mreverse\u001b[39m"
      ]
     },
     "execution_count": 47,
     "metadata": {},
     "output_type": "execute_result"
    }
   ],
   "source": [
    "def reverse[A](xs: List[A]): List[A] = xs match {\n",
    "    case Empty=> Empty\n",
    "    case Cons(x, xs)=> append(reverse(xs), Cons(x, Empty))\n",
    "}"
   ]
  },
  {
   "cell_type": "code",
   "execution_count": 43,
   "metadata": {},
   "outputs": [],
   "source": [
    "// Tests for reverse\n",
    "assert(reverse(Empty)\n",
    "       == Empty)"
   ]
  },
  {
   "cell_type": "code",
   "execution_count": 44,
   "metadata": {},
   "outputs": [
    {
     "data": {
      "text/plain": [
       "\u001b[36mres43\u001b[39m: \u001b[32mList\u001b[39m[\u001b[32mSucc\u001b[39m] = \u001b[33mCons\u001b[39m(\u001b[33mSucc\u001b[39m(\u001b[33mSucc\u001b[39m(\u001b[33mSucc\u001b[39m(Zero))), Empty)"
      ]
     },
     "execution_count": 44,
     "metadata": {},
     "output_type": "execute_result"
    }
   ],
   "source": [
    "reverse(Cons(three, Empty))"
   ]
  },
  {
   "cell_type": "code",
   "execution_count": 45,
   "metadata": {},
   "outputs": [],
   "source": [
    "assert(reverse(Cons(three, Empty))\n",
    "       == Cons(three, Empty))"
   ]
  },
  {
   "cell_type": "code",
   "execution_count": 46,
   "metadata": {},
   "outputs": [],
   "source": [
    "assert(reverse(Cons(six, Cons(four, Cons(seven, Cons(three, Empty)))))\n",
    "       == Cons(three, Cons(seven, Cons(four, Cons(six, Empty)))))"
   ]
  },
  {
   "cell_type": "code",
   "execution_count": 48,
   "metadata": {},
   "outputs": [
    {
     "data": {
      "text/plain": [
       "\u001b[36mres47\u001b[39m: \u001b[32mList\u001b[39m[\u001b[32mSucc\u001b[39m] = \u001b[33mCons\u001b[39m(\n",
       "  \u001b[33mSucc\u001b[39m(\u001b[33mSucc\u001b[39m(\u001b[33mSucc\u001b[39m(Zero))),\n",
       "  \u001b[33mCons\u001b[39m(\n",
       "    \u001b[33mSucc\u001b[39m(\u001b[33mSucc\u001b[39m(\u001b[33mSucc\u001b[39m(\u001b[33mSucc\u001b[39m(\u001b[33mSucc\u001b[39m(\u001b[33mSucc\u001b[39m(\u001b[33mSucc\u001b[39m(Zero))))))),\n",
       "    \u001b[33mCons\u001b[39m(\n",
       "      \u001b[33mSucc\u001b[39m(\u001b[33mSucc\u001b[39m(\u001b[33mSucc\u001b[39m(\u001b[33mSucc\u001b[39m(Zero)))),\n",
       "      \u001b[33mCons\u001b[39m(\u001b[33mSucc\u001b[39m(\u001b[33mSucc\u001b[39m(\u001b[33mSucc\u001b[39m(\u001b[33mSucc\u001b[39m(\u001b[33mSucc\u001b[39m(\u001b[33mSucc\u001b[39m(Zero)))))), Empty)\n",
       "    )\n",
       "  )\n",
       ")"
      ]
     },
     "execution_count": 48,
     "metadata": {},
     "output_type": "execute_result"
    }
   ],
   "source": [
    "reverse(Cons(six, Cons(four, Cons(seven, Cons(three, Empty)))))"
   ]
  },
  {
   "cell_type": "markdown",
   "metadata": {},
   "source": [
    "## Map"
   ]
  },
  {
   "cell_type": "markdown",
   "metadata": {},
   "source": [
    "Define the map function from class in scala.\n",
    "Recall what map does:\n",
    "```scala\n",
    "map(add_1, Cons(one, Cons(two, Empty))) == Cons(two, Cons(three, Empty))\n",
    "```"
   ]
  },
  {
   "cell_type": "code",
   "execution_count": 49,
   "metadata": {},
   "outputs": [
    {
     "data": {
      "text/plain": [
       "defined \u001b[32mfunction\u001b[39m \u001b[36mmap\u001b[39m"
      ]
     },
     "execution_count": 49,
     "metadata": {},
     "output_type": "execute_result"
    }
   ],
   "source": [
    "def map[A,B](f: (A=>B), xs: List[A]): List[B]= xs match{\n",
    "    case Empty=> Empty\n",
    "    case Cons(x, xs)=> Cons(f(x), map(f, xs))\n",
    "}"
   ]
  },
  {
   "cell_type": "markdown",
   "metadata": {},
   "source": [
    "### Add 1 to all elements of the list"
   ]
  },
  {
   "cell_type": "code",
   "execution_count": 50,
   "metadata": {},
   "outputs": [
    {
     "data": {
      "text/plain": [
       "defined \u001b[32mfunction\u001b[39m \u001b[36madd_1\u001b[39m"
      ]
     },
     "execution_count": 50,
     "metadata": {},
     "output_type": "execute_result"
    }
   ],
   "source": [
    "// Tests for map\n",
    "def add_1(x: Nat): Nat = plus(x, one)"
   ]
  },
  {
   "cell_type": "code",
   "execution_count": 51,
   "metadata": {},
   "outputs": [],
   "source": [
    "assert(map(add_1, Empty)\n",
    "       == Empty)"
   ]
  },
  {
   "cell_type": "code",
   "execution_count": 52,
   "metadata": {},
   "outputs": [
    {
     "data": {
      "text/plain": [
       "\u001b[36mres51\u001b[39m: \u001b[32mList\u001b[39m[\u001b[32mNat\u001b[39m] = Empty"
      ]
     },
     "execution_count": 52,
     "metadata": {},
     "output_type": "execute_result"
    }
   ],
   "source": [
    "map(add_1, Empty)"
   ]
  },
  {
   "cell_type": "code",
   "execution_count": 53,
   "metadata": {},
   "outputs": [
    {
     "ename": "",
     "evalue": "",
     "output_type": "error",
     "traceback": [
      "\u001b[31mjava.lang.AssertionError: assertion failed\u001b[39m\n  scala.Predef$.assert(\u001b[32mPredef.scala\u001b[39m:\u001b[32m267\u001b[39m)\n  ammonite.$sess.cmd52$Helper.<init>(\u001b[32mcmd52.sc\u001b[39m:\u001b[32m2\u001b[39m)\n  ammonite.$sess.cmd52$.<clinit>(\u001b[32mcmd52.sc\u001b[39m:\u001b[32m7\u001b[39m)"
     ]
    }
   ],
   "source": [
    "assert(map(add_1, Empty)\n",
    "       == Cons(three, Empty))"
   ]
  },
  {
   "cell_type": "code",
   "execution_count": 54,
   "metadata": {},
   "outputs": [],
   "source": [
    "assert(map(add_1, Cons(three, Empty))\n",
    "       == Cons(four, Empty))"
   ]
  },
  {
   "cell_type": "code",
   "execution_count": 55,
   "metadata": {},
   "outputs": [],
   "source": [
    "assert(map(add_1, Cons(six, Cons(four, Cons(seven, Cons(three, Empty)))))\n",
    "       == Cons(seven, Cons(five, Cons(eight, Cons(four, Empty)))))"
   ]
  },
  {
   "cell_type": "code",
   "execution_count": 56,
   "metadata": {},
   "outputs": [
    {
     "data": {
      "text/plain": [
       "\u001b[36mres55\u001b[39m: \u001b[32mList\u001b[39m[\u001b[32mNat\u001b[39m] = \u001b[33mCons\u001b[39m(\n",
       "  \u001b[33mSucc\u001b[39m(\u001b[33mSucc\u001b[39m(\u001b[33mSucc\u001b[39m(\u001b[33mSucc\u001b[39m(\u001b[33mSucc\u001b[39m(\u001b[33mSucc\u001b[39m(\u001b[33mSucc\u001b[39m(Zero))))))),\n",
       "  \u001b[33mCons\u001b[39m(\n",
       "    \u001b[33mSucc\u001b[39m(\u001b[33mSucc\u001b[39m(\u001b[33mSucc\u001b[39m(\u001b[33mSucc\u001b[39m(\u001b[33mSucc\u001b[39m(Zero))))),\n",
       "    \u001b[33mCons\u001b[39m(\n",
       "      \u001b[33mSucc\u001b[39m(\u001b[33mSucc\u001b[39m(\u001b[33mSucc\u001b[39m(\u001b[33mSucc\u001b[39m(\u001b[33mSucc\u001b[39m(\u001b[33mSucc\u001b[39m(\u001b[33mSucc\u001b[39m(\u001b[33mSucc\u001b[39m(Zero)))))))),\n",
       "      \u001b[33mCons\u001b[39m(\u001b[33mSucc\u001b[39m(\u001b[33mSucc\u001b[39m(\u001b[33mSucc\u001b[39m(\u001b[33mSucc\u001b[39m(Zero)))), Empty)\n",
       "    )\n",
       "  )\n",
       ")"
      ]
     },
     "execution_count": 56,
     "metadata": {},
     "output_type": "execute_result"
    }
   ],
   "source": [
    "map(add_1, Cons(six, Cons(four, Cons(seven, Cons(three, Empty)))))"
   ]
  },
  {
   "cell_type": "code",
   "execution_count": 57,
   "metadata": {},
   "outputs": [],
   "source": [
    "assert(map(not, Cons(True, Cons(False, Empty)))\n",
    "       == Cons(False, Cons(True, Empty)))"
   ]
  },
  {
   "cell_type": "code",
   "execution_count": 58,
   "metadata": {},
   "outputs": [
    {
     "data": {
      "text/plain": [
       "\u001b[36mres57\u001b[39m: \u001b[32mList\u001b[39m[\u001b[32mBool\u001b[39m] = \u001b[33mCons\u001b[39m(False, \u001b[33mCons\u001b[39m(True, Empty))"
      ]
     },
     "execution_count": 58,
     "metadata": {},
     "output_type": "execute_result"
    }
   ],
   "source": [
    "map(not, Cons(True, Cons(False, Empty)))"
   ]
  },
  {
   "cell_type": "code",
   "execution_count": 59,
   "metadata": {},
   "outputs": [
    {
     "data": {
      "text/plain": [
       "\u001b[36mthings_you_are\u001b[39m: \u001b[32mList\u001b[39m[\u001b[32mString\u001b[39m] = \u001b[33mCons\u001b[39m(\n",
       "  \u001b[32m\"hot then you're cold\"\u001b[39m,\n",
       "  \u001b[33mCons\u001b[39m(\n",
       "    \u001b[32m\"yes then you're no\"\u001b[39m,\n",
       "    \u001b[33mCons\u001b[39m(\u001b[32m\"in then you're out\"\u001b[39m, \u001b[33mCons\u001b[39m(\u001b[32m\"up then you're down\"\u001b[39m, Empty))\n",
       "  )\n",
       ")\n",
       "defined \u001b[32mfunction\u001b[39m \u001b[36mkaty_sing\u001b[39m\n",
       "\u001b[36mres58_2\u001b[39m: \u001b[32mList\u001b[39m[\u001b[32mString\u001b[39m] = \u001b[33mCons\u001b[39m(\n",
       "  \u001b[32m\"You're hot then you're cold\"\u001b[39m,\n",
       "  \u001b[33mCons\u001b[39m(\n",
       "    \u001b[32m\"You're yes then you're no\"\u001b[39m,\n",
       "    \u001b[33mCons\u001b[39m(\u001b[32m\"You're in then you're out\"\u001b[39m, \u001b[33mCons\u001b[39m(\u001b[32m\"You're up then you're down\"\u001b[39m, Empty))\n",
       "  )\n",
       ")"
      ]
     },
     "execution_count": 59,
     "metadata": {},
     "output_type": "execute_result"
    }
   ],
   "source": [
    "// Bonus tests\n",
    "// https://www.youtube.com/watch?v=kTHNpusq654\n",
    "// Let's sing\n",
    "val things_you_are: List[String] =\n",
    "    Cons(\"hot then you're cold\",\n",
    "    Cons(\"yes then you're no\",\n",
    "    Cons(\"in then you're out\",\n",
    "    Cons(\"up then you're down\", Empty))))\n",
    "def katy_sing(x: String): String= \"You're \" + x\n",
    "map(katy_sing, things_you_are)"
   ]
  },
  {
   "cell_type": "code",
   "execution_count": null,
   "metadata": {},
   "outputs": [],
   "source": []
  }
 ],
 "metadata": {
  "kernelspec": {
   "display_name": "Scala",
   "language": "scala",
   "name": "scala"
  },
  "language_info": {
   "codemirror_mode": "text/x-scala",
   "file_extension": ".scala",
   "mimetype": "text/x-scala",
   "name": "scala",
   "nbconvert_exporter": "script",
   "version": "2.12.11"
  }
 },
 "nbformat": 4,
 "nbformat_minor": 2
}
