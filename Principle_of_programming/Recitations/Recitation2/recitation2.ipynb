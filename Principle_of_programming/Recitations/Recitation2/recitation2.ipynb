{
 "cells": [
  {
   "cell_type": "markdown",
   "metadata": {},
   "source": [
    "## Review"
   ]
  },
  {
   "cell_type": "code",
   "execution_count": null,
   "metadata": {},
   "outputs": [],
   "source": [
    "\n",
    "sealed trait Nat\n",
    "case object Zero extends Nat\n",
    "case class  Succ(pred : Nat) extends Nat"
   ]
  },
  {
   "cell_type": "code",
   "execution_count": null,
   "metadata": {},
   "outputs": [],
   "source": [
    "def one = Succ(Zero)\n",
    "def two = Succ(Succ(Zero))\n",
    "def three = Succ(two)\n",
    "def four = Succ(three)\n",
    "def five = Succ(four)\n",
    "def six = Succ(five)\n",
    "def seven = Succ(six)\n",
    "def eight = Succ(seven)"
   ]
  },
  {
   "cell_type": "code",
   "execution_count": null,
   "metadata": {},
   "outputs": [],
   "source": [
    "def plus(x : Nat, y : Nat) : Nat = x match {\n",
    "    case Zero    => y\n",
    "//     case Succ(x) => Succ(plus(x, y))\n",
    "    case Succ(t) => plus(t, Succ(y)) //plus(2,3)---> plus(1,)\n",
    "}"
   ]
  },
  {
   "cell_type": "code",
   "execution_count": null,
   "metadata": {},
   "outputs": [],
   "source": [
    "sealed trait Bool\n",
    "case object True extends Bool\n",
    "case object False extends Bool\n"
   ]
  },
  {
   "cell_type": "code",
   "execution_count": null,
   "metadata": {},
   "outputs": [],
   "source": [
    "def not(x : Bool) : Bool = x match { // using pattern matching\n",
    "    case True => False\n",
    "    case False => True\n",
    "}"
   ]
  },
  {
   "cell_type": "markdown",
   "metadata": {},
   "source": [
    "### Steps to define a type\n",
    "<ul> Use of constructor and Scala traits </ul>\n",
    "<ul> Sealed trait for security </ul>\n",
    "<ul> Define constituents of the data type using cases </ul>\n",
    "<ul> constituents may or may not take arguments </ul>"
   ]
  },
  {
   "cell_type": "markdown",
   "metadata": {},
   "source": [
    "### Steps of writing a function:\n",
    "<ul> Use a def keyword and come up with a function name  </ul>\n",
    "<ul> Specify the Input and output types  </ul>\n",
    "<ul> In case Scala Pattern matching (which will use quite a lot)  </ul>\n",
    "<ul> Decide which varible/expresstion to use match  </ul>\n",
    "<ul> Use of keyword match  </ul>\n",
    "<ul> Inside curly braces create cases to match  </ul>\n",
    "<ul> First case should always be the base case. Since base case is the one where the function terminates we need to write it first </ul>\n",
    "<ul> Recursive case which should eventually hit the base case </ul>"
   ]
  },
  {
   "cell_type": "markdown",
   "metadata": {},
   "source": [
    "# Recitation: Week 2\n",
    "\n",
    "## Topics\n",
    "\n",
    "* Polymorphism\n",
    "\n",
    "## Polymorphism\n",
    "\n",
    "Polymorphic lists will save us a lot of time and effort by having one list type that can store any type inside. Note that we can't mix the types inside.\n",
    "\n",
    "Given our definition of polymorphic lists in class:\n",
    "$$\n",
    "\\begin{align}\n",
    "\\mathbb{List}\\ A\\ :=\\ \\text{Empty}\\ \\mid\\ \\text{Cons}\\ A\\ (\\mathbb{List}\\ A)\n",
    "\\end{align}\n",
    "$$\n",
    "\n",
    "define Polymorphic lists in Scala."
   ]
  },
  {
   "cell_type": "code",
   "execution_count": null,
   "metadata": {},
   "outputs": [],
   "source": []
  },
  {
   "cell_type": "code",
   "execution_count": null,
   "metadata": {},
   "outputs": [],
   "source": [
    "// Tests for polymorphic lists\n",
    "val l1: List[Nat]  = Empty"
   ]
  },
  {
   "cell_type": "code",
   "execution_count": null,
   "metadata": {},
   "outputs": [],
   "source": [
    "val l2: List[Nat]  = Cons(one, Cons(five, l1));"
   ]
  },
  {
   "cell_type": "code",
   "execution_count": null,
   "metadata": {},
   "outputs": [],
   "source": [
    "val l3: List[Bool] = Cons(True, Cons(False, Cons(True, Empty)))"
   ]
  },
  {
   "cell_type": "markdown",
   "metadata": {},
   "source": [
    "## Functions on Polymorphic Lists"
   ]
  },
  {
   "cell_type": "markdown",
   "metadata": {},
   "source": [
    "Define a polymorphic function called append which concatenates two lists. E.g.:\n",
    "```scala\n",
    "append(Cons(one, Empty), Cons(two, Empty)) == Cons(one, Cons(two, Empty))\n",
    "```"
   ]
  },
  {
   "cell_type": "code",
   "execution_count": null,
   "metadata": {},
   "outputs": [],
   "source": []
  },
  {
   "cell_type": "code",
   "execution_count": null,
   "metadata": {},
   "outputs": [],
   "source": [
    "append(Empty, Empty)"
   ]
  },
  {
   "cell_type": "code",
   "execution_count": null,
   "metadata": {},
   "outputs": [],
   "source": [
    "// Tests for append\n",
    "assert(append(Empty, Empty) == Empty)"
   ]
  },
  {
   "cell_type": "code",
   "execution_count": null,
   "metadata": {},
   "outputs": [],
   "source": [
    "assert(append(Cons(six, Cons(four, Empty)), Empty)\n",
    "       == Cons(six, Cons(four, Empty)))"
   ]
  },
  {
   "cell_type": "code",
   "execution_count": null,
   "metadata": {},
   "outputs": [],
   "source": [
    "assert(append(Cons(two, Cons(four, Empty)), Cons(one, Cons(three, Empty)))\n",
    "       == Cons(two, Cons(four, Cons(one, Cons(three, Empty)))))"
   ]
  },
  {
   "cell_type": "code",
   "execution_count": null,
   "metadata": {},
   "outputs": [],
   "source": [
    "append(Cons(two, Cons(four, Empty)), Cons(one, Cons(three, Empty)))"
   ]
  },
  {
   "cell_type": "markdown",
   "metadata": {},
   "source": [
    "Define a polymorphic function called reverse which reverses the elements in a list. E.g.:\n",
    "```scala\n",
    "reverse(Cons(one, Cons(two, Empty))) == Cons(two, Cons(one, Empty))\n",
    "```"
   ]
  },
  {
   "cell_type": "code",
   "execution_count": null,
   "metadata": {},
   "outputs": [],
   "source": []
  },
  {
   "cell_type": "code",
   "execution_count": null,
   "metadata": {},
   "outputs": [],
   "source": [
    "// Tests for reverse\n",
    "assert(reverse(Empty)\n",
    "       == Empty)"
   ]
  },
  {
   "cell_type": "code",
   "execution_count": null,
   "metadata": {},
   "outputs": [],
   "source": [
    "reverse(Cons(three, Empty))"
   ]
  },
  {
   "cell_type": "code",
   "execution_count": null,
   "metadata": {},
   "outputs": [],
   "source": [
    "assert(reverse(Cons(three, Empty))\n",
    "       == Cons(three, Empty))"
   ]
  },
  {
   "cell_type": "code",
   "execution_count": null,
   "metadata": {},
   "outputs": [],
   "source": [
    "assert(reverse(Cons(six, Cons(four, Cons(seven, Cons(three, Empty)))))\n",
    "       == Cons(three, Cons(seven, Cons(four, Cons(six, Empty)))))"
   ]
  },
  {
   "cell_type": "code",
   "execution_count": null,
   "metadata": {},
   "outputs": [],
   "source": [
    "reverse(Cons(six, Cons(four, Cons(seven, Cons(three, Empty)))))"
   ]
  },
  {
   "cell_type": "markdown",
   "metadata": {},
   "source": [
    "## Map"
   ]
  },
  {
   "cell_type": "markdown",
   "metadata": {},
   "source": [
    "Define the map function from class in scala.\n",
    "Recall what map does:\n",
    "```scala\n",
    "map(add_1, Cons(one, Cons(two, Empty))) == Cons(two, Cons(three, Empty))\n",
    "```"
   ]
  },
  {
   "cell_type": "code",
   "execution_count": null,
   "metadata": {},
   "outputs": [],
   "source": []
  },
  {
   "cell_type": "markdown",
   "metadata": {},
   "source": [
    "### Add 1 to all elements of the list"
   ]
  },
  {
   "cell_type": "code",
   "execution_count": null,
   "metadata": {},
   "outputs": [],
   "source": [
    "// Tests for map\n",
    "def add_1(x: Nat): Nat = plus(x, one)"
   ]
  },
  {
   "cell_type": "code",
   "execution_count": null,
   "metadata": {},
   "outputs": [],
   "source": [
    "map(add_1, Empty)"
   ]
  },
  {
   "cell_type": "code",
   "execution_count": null,
   "metadata": {},
   "outputs": [],
   "source": [
    "assert(map(add_1, Empty)\n",
    "       == Empty)"
   ]
  },
  {
   "cell_type": "code",
   "execution_count": null,
   "metadata": {},
   "outputs": [],
   "source": [
    "assert(map(add_1, Empty)\n",
    "       == Cons(three, Empty))"
   ]
  },
  {
   "cell_type": "code",
   "execution_count": null,
   "metadata": {},
   "outputs": [],
   "source": [
    "assert(map(add_1, Cons(three, Empty))\n",
    "       == Cons(four, Empty))"
   ]
  },
  {
   "cell_type": "code",
   "execution_count": null,
   "metadata": {},
   "outputs": [],
   "source": [
    "assert(map(add_1, Cons(six, Cons(four, Cons(seven, Cons(three, Empty)))))\n",
    "       == Cons(seven, Cons(five, Cons(eight, Cons(four, Empty)))))"
   ]
  },
  {
   "cell_type": "code",
   "execution_count": null,
   "metadata": {},
   "outputs": [],
   "source": [
    "map(add_1, Cons(six, Cons(four, Cons(seven, Cons(three, Empty)))))"
   ]
  },
  {
   "cell_type": "code",
   "execution_count": null,
   "metadata": {},
   "outputs": [],
   "source": [
    "assert(map(not, Cons(True, Cons(False, Empty)))\n",
    "       == Cons(False, Cons(True, Empty)))"
   ]
  },
  {
   "cell_type": "code",
   "execution_count": null,
   "metadata": {},
   "outputs": [],
   "source": [
    "map(not, Cons(True, Cons(False, Empty)))"
   ]
  },
  {
   "cell_type": "code",
   "execution_count": null,
   "metadata": {},
   "outputs": [],
   "source": [
    "// Bonus tests\n",
    "// https://www.youtube.com/watch?v=kTHNpusq654\n",
    "// Let's sing\n",
    "val things_you_are: List[String] =\n",
    "    Cons(\"hot then you're cold\",\n",
    "    Cons(\"yes then you're no\",\n",
    "    Cons(\"in then you're out\",\n",
    "    Cons(\"up then you're down\", Empty))))"
   ]
  },
  {
   "cell_type": "code",
   "execution_count": null,
   "metadata": {},
   "outputs": [],
   "source": []
  }
 ],
 "metadata": {
  "kernelspec": {
   "display_name": "Scala",
   "language": "scala",
   "name": "scala"
  },
  "language_info": {
   "codemirror_mode": "text/x-scala",
   "file_extension": ".sc",
   "mimetype": "text/x-scala",
   "name": "scala",
   "nbconvert_exporter": "script",
   "version": "2.13.3"
  }
 },
 "nbformat": 4,
 "nbformat_minor": 2
}
